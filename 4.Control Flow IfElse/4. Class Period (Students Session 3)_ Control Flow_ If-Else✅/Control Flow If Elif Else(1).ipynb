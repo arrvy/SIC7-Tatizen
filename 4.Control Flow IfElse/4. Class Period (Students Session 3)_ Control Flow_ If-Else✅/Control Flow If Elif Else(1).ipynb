{
 "cells": [
  {
   "cell_type": "markdown",
   "id": "0bfb1d09",
   "metadata": {},
   "source": [
    "## Control Flow : if, elif, else"
   ]
  },
  {
   "cell_type": "markdown",
   "id": "883be4fe",
   "metadata": {},
   "source": [
    "## If Else"
   ]
  },
  {
   "cell_type": "code",
   "execution_count": 1,
   "id": "298a7149",
   "metadata": {},
   "outputs": [
    {
     "name": "stdout",
     "output_type": "stream",
     "text": [
      "Masukkan umur Anda: 20\n",
      "Anda sudah dewasa.\n"
     ]
    }
   ],
   "source": [
    "age = int(input(\"Masukkan umur Anda: \"))\n",
    "\n",
    "if age >= 18:\n",
    "    print(\"Anda sudah dewasa.\")\n",
    "else:\n",
    "    print(\"Anda masih di bawah umur.\")"
   ]
  },
  {
   "cell_type": "markdown",
   "id": "698e1f08",
   "metadata": {},
   "source": [
    "## Nested Condition"
   ]
  },
  {
   "cell_type": "code",
   "execution_count": 2,
   "id": "88c8b571",
   "metadata": {},
   "outputs": [
    {
     "name": "stdout",
     "output_type": "stream",
     "text": [
      "Masukkan angka: 3\n",
      "Positif Ganjil\n"
     ]
    }
   ],
   "source": [
    "x = float(input(\"Masukkan angka: \"))\n",
    "if x > 0:\n",
    "    if x % 2 == 0:\n",
    "        print(\"Positif Genap\")\n",
    "    else:\n",
    "        print(\"Positif Ganjil\")\n",
    "else:\n",
    "    print(\"Bukan bilangan positif\")"
   ]
  },
  {
   "cell_type": "markdown",
   "id": "337db472",
   "metadata": {},
   "source": [
    "## Contoh 1 – Age Classifier"
   ]
  },
  {
   "cell_type": "code",
   "execution_count": 3,
   "id": "a57c3b9a",
   "metadata": {},
   "outputs": [
    {
     "name": "stdout",
     "output_type": "stream",
     "text": [
      "Masukkan umur Anda: 20\n",
      "Kategori: Dewasa\n"
     ]
    }
   ],
   "source": [
    "age = int(input(\"Masukkan umur Anda: \"))\n",
    "\n",
    "if age < 13:\n",
    "    print(\"Kategori: Anak-anak\")\n",
    "elif age < 18:\n",
    "    print(\"Kategori: Remaja\")\n",
    "elif age < 60:\n",
    "    print(\"Kategori: Dewasa\")\n",
    "else:\n",
    "    print(\"Kategori: Lansia\")"
   ]
  },
  {
   "cell_type": "code",
   "execution_count": 7,
   "id": "b80d9b93",
   "metadata": {},
   "outputs": [
    {
     "name": "stdout",
     "output_type": "stream",
     "text": [
      "Masukkan umur Anda: ok\n",
      "Input tidak valid! Masukkan angka saja.\n",
      "Masukkan umur Anda: ok\n",
      "Input tidak valid! Masukkan angka saja.\n",
      "Masukkan umur Anda: 20.5\n",
      "Kategori: Dewasa\n"
     ]
    }
   ],
   "source": [
    "# Handling Input yg gak sesuai\n",
    "while True:\n",
    "    try:\n",
    "        # Meminta input umur\n",
    "        age = float(input(\"Masukkan umur Anda: \"))  \n",
    "        \n",
    "        # Jika angka valid, tentukan kategori umur\n",
    "        if age < 0:\n",
    "            print(\"Umur tidak boleh negatif. Coba lagi!\")\n",
    "            continue\n",
    "        \n",
    "        if age < 13:\n",
    "            print(\"Kategori: Anak-anak\")\n",
    "        elif age < 18:\n",
    "            print(\"Kategori: Remaja\")\n",
    "        elif age < 60:\n",
    "            print(\"Kategori: Dewasa\")\n",
    "        else:\n",
    "            print(\"Kategori: Lansia\")\n",
    "        \n",
    "        # Setelah berhasil cetak kategori, keluar dari loop\n",
    "        break\n",
    "\n",
    "    except ValueError:\n",
    "        print(\"Input tidak valid! Masukkan angka saja.\")\n"
   ]
  },
  {
   "cell_type": "markdown",
   "id": "1a6ae36b",
   "metadata": {},
   "source": [
    "## Contoh 2 – Grade Classifier"
   ]
  },
  {
   "cell_type": "code",
   "execution_count": 8,
   "id": "da77c25f",
   "metadata": {},
   "outputs": [
    {
     "name": "stdout",
     "output_type": "stream",
     "text": [
      "Masukkan nilai ujian: 40\n",
      "Grade: E\n"
     ]
    }
   ],
   "source": [
    "score = int(input(\"Masukkan nilai ujian: \"))\n",
    "\n",
    "if score >= 90:\n",
    "    print(\"Grade: A\")\n",
    "elif score >= 75:\n",
    "    print(\"Grade: B\")\n",
    "elif score >= 60:\n",
    "    print(\"Grade: C\")\n",
    "elif score >= 45:\n",
    "    print(\"Grade: D\")\n",
    "else:\n",
    "    print(\"Grade: E\")"
   ]
  },
  {
   "cell_type": "markdown",
   "id": "64eb7a67",
   "metadata": {},
   "source": [
    "## Hands-on: Age Classifier (Nested + Logical Operator)"
   ]
  },
  {
   "cell_type": "code",
   "execution_count": 5,
   "id": "d77fa64c",
   "metadata": {},
   "outputs": [
    {
     "name": "stdout",
     "output_type": "stream",
     "text": [
      "Masukkan umur Anda: 20\n",
      "Apakah Anda seorang pelajar? (ya/tidak): tidak\n",
      "Kategori: Dewasa Bekerja\n"
     ]
    }
   ],
   "source": [
    "# Age Classifier dengan Nested Conditions\n",
    "age = int(input(\"Masukkan umur Anda: \"))\n",
    "is_student = input(\"Apakah Anda seorang pelajar? (ya/tidak): \").lower()\n",
    "\n",
    "if age >= 18:\n",
    "    if is_student == \"ya\":\n",
    "        print(\"Kategori: Pelajar Dewasa\")\n",
    "    else:\n",
    "        print(\"Kategori: Dewasa Bekerja\")\n",
    "else:\n",
    "    if is_student == \"ya\":\n",
    "        print(\"Kategori: Pelajar di Bawah Umur\")\n",
    "    else:\n",
    "        print(\"Kategori: Bukan Pelajar di Bawah Umur\")"
   ]
  },
  {
   "cell_type": "markdown",
   "id": "f5a1189f",
   "metadata": {},
   "source": [
    "### Versi lebih ringkas dengan logical operator:"
   ]
  },
  {
   "cell_type": "code",
   "execution_count": 9,
   "id": "a37737a1",
   "metadata": {},
   "outputs": [
    {
     "name": "stdout",
     "output_type": "stream",
     "text": [
      "Masukkan umur Anda: 20\n",
      "Apakah Anda seorang pelajar? (ya/tidak): ya\n",
      "Kategori: Pelajar Dewasa\n"
     ]
    }
   ],
   "source": [
    "age = int(input(\"Masukkan umur Anda: \"))\n",
    "is_student = input(\"Apakah Anda seorang pelajar? (ya/tidak): \").lower()\n",
    "\n",
    "if age >= 18 and is_student == \"ya\":\n",
    "    print(\"Kategori: Pelajar Dewasa\")\n",
    "elif age >= 18 and is_student != \"ya\":\n",
    "    print(\"Kategori: Dewasa Bekerja\")\n",
    "elif age < 18 and is_student == \"ya\":\n",
    "    print(\"Kategori: Pelajar di Bawah Umur\")\n",
    "else:\n",
    "    print(\"Kategori: Bukan Pelajar di Bawah Umur\")"
   ]
  },
  {
   "cell_type": "markdown",
   "id": "9a52f27f",
   "metadata": {},
   "source": [
    "## 3. Hands-on: Grade Classifier (Nested + Logical Operator)"
   ]
  },
  {
   "cell_type": "code",
   "execution_count": null,
   "id": "d1a3f6d3",
   "metadata": {},
   "outputs": [],
   "source": [
    "# Grade Classifier dengan Nested Conditions\n",
    "score = int(input(\"Masukkan nilai ujian Anda: \"))\n",
    "\n",
    "if score >= 90:\n",
    "    print(\"Grade: A\")\n",
    "    if score >= 95:\n",
    "        print(\"Predikat: Istimewa\")\n",
    "    else:\n",
    "        print(\"Predikat: Sangat Baik\")\n",
    "elif score >= 75:\n",
    "    print(\"Grade: B\")\n",
    "    if score >= 85:\n",
    "        print(\"Predikat: Baik Sekali\")\n",
    "    else:\n",
    "        print(\"Predikat: Baik\")\n",
    "elif score >= 60:\n",
    "    print(\"Grade: C\")\n",
    "    if score >= 65:\n",
    "        print(\"Predikat: Cukup Memuaskan\")\n",
    "    else:\n",
    "        print(\"Predikat: Cukup\")\n",
    "elif score >= 45:\n",
    "    print(\"Grade: D\")\n",
    "    print(\"Predikat: Kurang\")\n",
    "else:\n",
    "    print(\"Grade: E\")\n",
    "    print(\"Predikat: Sangat Kurang\")"
   ]
  },
  {
   "cell_type": "markdown",
   "id": "87ed4c7b",
   "metadata": {},
   "source": [
    "### Versi lebih ringkas dengan logical operator:"
   ]
  },
  {
   "cell_type": "code",
   "execution_count": 10,
   "id": "335fc8f1",
   "metadata": {},
   "outputs": [
    {
     "name": "stdout",
     "output_type": "stream",
     "text": [
      "Masukkan nilai ujian Anda: 20\n",
      "Grade: E | Predikat: Sangat Kurang\n"
     ]
    }
   ],
   "source": [
    "score = int(input(\"Masukkan nilai ujian Anda: \"))\n",
    "\n",
    "if score >= 90:\n",
    "    print(\"Grade: A\", \"| Predikat:\", \"Istimewa\" if score >= 95 else \"Sangat Baik\")\n",
    "elif 75 <= score < 90:\n",
    "    print(\"Grade: B\", \"| Predikat:\", \"Baik Sekali\" if score >= 85 else \"Baik\")\n",
    "elif 60 <= score < 75:\n",
    "    print(\"Grade: C\", \"| Predikat:\", \"Cukup Memuaskan\" if score >= 65 else \"Cukup\")\n",
    "elif 45 <= score < 60:\n",
    "    print(\"Grade: D | Predikat: Kurang\")\n",
    "else:\n",
    "    print(\"Grade: E | Predikat: Sangat Kurang\")\n"
   ]
  }
 ],
 "metadata": {
  "kernelspec": {
   "display_name": "Python 3 (ipykernel)",
   "language": "python",
   "name": "python3"
  },
  "language_info": {
   "codemirror_mode": {
    "name": "ipython",
    "version": 3
   },
   "file_extension": ".py",
   "mimetype": "text/x-python",
   "name": "python",
   "nbconvert_exporter": "python",
   "pygments_lexer": "ipython3",
   "version": "3.11.4"
  }
 },
 "nbformat": 4,
 "nbformat_minor": 5
}
