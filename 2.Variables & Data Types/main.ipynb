{
  "cells": [
    {
      "cell_type": "markdown",
      "metadata": {
        "colab_type": "text",
        "id": "view-in-github"
      },
      "source": [
        "<a href=\"https://colab.research.google.com/github/arrvy/SIC7-Tatizen/blob/main/2.Variables%20%26%20Data%20Types/main.ipynb\" target=\"_parent\"><img src=\"https://colab.research.google.com/assets/colab-badge.svg\" alt=\"Open In Colab\"/></a>"
      ]
    },
    {
      "cell_type": "code",
      "execution_count": null,
      "id": "fe9cdf16",
      "metadata": {
        "id": "fe9cdf16"
      },
      "outputs": [],
      "source": [
        "print(\"Hello World\")"
      ]
    },
    {
      "cell_type": "markdown",
      "id": "oLzWju3CrYF2",
      "metadata": {
        "id": "oLzWju3CrYF2"
      },
      "source": [
        "#### Assignment Operator\n",
        "\n",
        "menggunakan \"=\" sebagai pemberi nilai ke variabel\n"
      ]
    },
    {
      "cell_type": "code",
      "execution_count": 1,
      "id": "fS2lGKA4rZ4x",
      "metadata": {
        "colab": {
          "base_uri": "https://localhost:8080/"
        },
        "id": "fS2lGKA4rZ4x",
        "outputId": "194f4bec-6b93-43d0-ef70-c6e140c3513c"
      },
      "outputs": [
        {
          "name": "stdout",
          "output_type": "stream",
          "text": [
            "Produk DONAT PINKAN MAMBO berharga 25000\n"
          ]
        }
      ],
      "source": [
        "nama_produk = \"Donat Pinkan Mambo\"\n",
        "harga = 25_000 # Tetap terbaca 25000, namun bisa mempermudah membaca value\n",
        "\n",
        "print(f\"Produk {nama_produk.upper()} berharga {harga}\")\n"
      ]
    },
    {
      "cell_type": "markdown",
      "id": "lxf0ms00sehl",
      "metadata": {
        "id": "lxf0ms00sehl"
      },
      "source": [
        "#### Variabel di notebook itu tetap global, bisa \"dilihat block lain\" \n",
        "\n",
        "bisa mempermudah merorganisis variabel namum tetap hati-hati"
      ]
    },
    {
      "cell_type": "code",
      "execution_count": 2,
      "id": "necEjCWcsa3n",
      "metadata": {
        "colab": {
          "base_uri": "https://localhost:8080/"
        },
        "id": "necEjCWcsa3n",
        "outputId": "58f66791-2fc3-4331-a993-d3606936abd3"
      },
      "outputs": [
        {
          "name": "stdout",
          "output_type": "stream",
          "text": [
            "Donat Pinkan Mambo\n"
          ]
        }
      ],
      "source": [
        "print (nama_produk)"
      ]
    },
    {
      "cell_type": "markdown",
      "id": "487f23bd",
      "metadata": {},
      "source": [
        "#### Tipe Data\n",
        "\n",
        "Data tersebut akan disimpan pada sebuah variabel dengan tipe2 unik yang nantinya akan memiliki karakteristik masing-masing. Dan nantinya kita bisa mengolah tiap tipe dengan cara-cara tertentu\n"
      ]
    },
    {
      "cell_type": "code",
      "execution_count": 4,
      "id": "9bf98ef9",
      "metadata": {},
      "outputs": [
        {
          "name": "stdout",
          "output_type": "stream",
          "text": [
            "15\n",
            "105\n",
            "<class 'int'>\n",
            "<class 'str'>\n"
          ]
        }
      ],
      "source": [
        "a = 10\n",
        "b = '5'\n",
        "\n",
        "# print(a+b) #! akan gagal\n",
        "print(a+int(b)) #menjadi int\n",
        "print(str(a)+b) #string / karakter\n",
        "\n",
        "print(type(a))\n",
        "print(type(b))"
      ]
    },
    {
      "cell_type": "markdown",
      "id": "ce8bef7c",
      "metadata": {},
      "source": [
        "#### Casting Data\n",
        "\n",
        "Mengubah tipe data ke tipe data lain\n",
        "\n",
        "Dan if you know, ketika kita melakukan\n",
        "\n",
        "    x = 10\n",
        "    x = 11\n",
        "\n",
        "Secara esensi python, python melakukan operasi menghapus nilai x = 10, baru membuat kembali nilai x = 11"
      ]
    },
    {
      "cell_type": "code",
      "execution_count": null,
      "id": "4721d99e",
      "metadata": {},
      "outputs": [
        {
          "name": "stdout",
          "output_type": "stream",
          "text": [
            "21\n"
          ]
        }
      ],
      "source": [
        "x = 10\n",
        "x = 11\n",
        "x+= 10\n",
        "\n",
        "print(x)"
      ]
    },
    {
      "cell_type": "code",
      "execution_count": null,
      "id": "161247fe",
      "metadata": {},
      "outputs": [
        {
          "name": "stdout",
          "output_type": "stream",
          "text": [
            "11\n"
          ]
        }
      ],
      "source": [
        "floatingValue = 11.9\n",
        "\n",
        "print(int(floatingValue)) #truncate, not rounding"
      ]
    },
    {
      "cell_type": "code",
      "execution_count": 10,
      "id": "9a269c1f",
      "metadata": {},
      "outputs": [
        {
          "name": "stdout",
          "output_type": "stream",
          "text": [
            "65\n"
          ]
        }
      ],
      "source": [
        "val = 'A'\n",
        "\n",
        "#print(int(val)) # walau kita tahu character a bisa diubah menjadi ASCII\n",
        "print(ord(val))"
      ]
    },
    {
      "cell_type": "code",
      "execution_count": null,
      "id": "273ffe68",
      "metadata": {},
      "outputs": [
        {
          "name": "stdout",
          "output_type": "stream",
          "text": [
            "True <class 'float'>\n"
          ]
        }
      ],
      "source": [
        "valBool = 0.5 \n",
        "\n",
        "print(bool(valBool),type(valBool)) #False ONLY when 0"
      ]
    },
    {
      "cell_type": "markdown",
      "id": "989071e4",
      "metadata": {},
      "source": [
        "##### Practice"
      ]
    },
    {
      "cell_type": "markdown",
      "id": "88d42916",
      "metadata": {},
      "source": [
        "#### Input\n",
        "\n",
        "Memasukan nilai dari user/pengguna melalui input keyboard/hardware\n",
        "\n",
        "`input()` adalah fungsi yang akan menghentikan script Python dan akan menunggu input dari pengguna melalui hardware\n",
        "\n",
        "`input()` secara default akan mendapatkan **value string/character** dari pengguna"
      ]
    },
    {
      "cell_type": "code",
      "execution_count": 15,
      "id": "03ab7a16",
      "metadata": {},
      "outputs": [
        {
          "name": "stdout",
          "output_type": "stream",
          "text": [
            "NASHR berumur 20 tahun\n",
            "Hello nashr\n"
          ]
        }
      ],
      "source": [
        "nama = input('Masukkan Nama Anda : ')\n",
        "umur = int(input('Masukkan Umur Anda : '))\n",
        "\n",
        "print(f\"{nama.upper()} berumur {umur} tahun\")\n",
        "\n",
        "print(\"Hello\",input(\"Nama: \"))"
      ]
    },
    {
      "cell_type": "markdown",
      "id": "ea2689d8",
      "metadata": {},
      "source": [
        "#### Operasi Matematika"
      ]
    },
    {
      "cell_type": "code",
      "execution_count": null,
      "id": "7f95d679",
      "metadata": {},
      "outputs": [
        {
          "name": "stdout",
          "output_type": "stream",
          "text": [
            "7\n",
            "3\n",
            "2.5\n",
            "2\n",
            "1\n",
            "10\n",
            "25\n"
          ]
        }
      ],
      "source": [
        "print (5+2)\n",
        "print (5-2)\n",
        "print (5/2) # Pembagian manusia\n",
        "print (5//2) # Pembagian bulat (pembagian normal bagi mesin)\n",
        "print (5%2) # Pembagian bulat (pembagian normal bagi mesin)\n",
        "print (5*2)\n",
        "print (5**2)"
      ]
    }
  ],
  "metadata": {
    "colab": {
      "include_colab_link": true,
      "provenance": []
    },
    "kernelspec": {
      "display_name": "base",
      "language": "python",
      "name": "python3"
    },
    "language_info": {
      "codemirror_mode": {
        "name": "ipython",
        "version": 3
      },
      "file_extension": ".py",
      "mimetype": "text/x-python",
      "name": "python",
      "nbconvert_exporter": "python",
      "pygments_lexer": "ipython3",
      "version": "3.13.5"
    }
  },
  "nbformat": 4,
  "nbformat_minor": 5
}
