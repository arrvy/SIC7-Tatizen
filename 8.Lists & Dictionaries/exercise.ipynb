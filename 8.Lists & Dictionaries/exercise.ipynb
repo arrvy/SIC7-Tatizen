{
 "cells": [
  {
   "cell_type": "markdown",
   "id": "8239f86a",
   "metadata": {},
   "source": [
    "1. Buat list nama siswa\n",
    "2. Buat dictionary nilai siswa, di mana key adalah nama siswa, dan value adalah nilai ujian mereka.\n",
    "3. Tugas anda :\n",
    "   - Tambahkan satu nama siswa baru ke akhir list siswa, hapus satu siswa tertentu dari list, lalu cetak daftar siswa yang tersisa.\n",
    "   - Cetak nama siswa pertama dan terakhir dari list siswa, lalu cetak 3 siswa terakhir menggunakan slicing.\n",
    "   - Gunakan suatu cara untuk mencetak index dan nama siswa dalam list siswa dengan format:\n",
    "   - Ubah nilai ujian salah satu siswa di dictionary nilai_siswa, hapus data nilai siswa lain menggunakan pop(), lalu cetak dictionary hasilnya.\n",
    "   - Ganti key nama siswa tertentu di dictionary nilai_siswa menjadi nama baru, lalu cetak hasilnya. \n",
    "\n"
   ]
  },
  {
   "cell_type": "code",
   "execution_count": null,
   "id": "4c29f8f7",
   "metadata": {},
   "outputs": [],
   "source": [
    "# Deklarasi dan Insilaisasi List & Dictionary\n",
    "\n",
    "namaSiswa = [\"Supriyadi\",\n",
    "             \"Yanto\",\n",
    "             \"Firman\",\n",
    "             \"Memet\",\n",
    "             \"Retno\"\n",
    "            ]\n",
    "\n",
    "namaSiswaNilai = {\"Supriyadi\" : 0,\n",
    "             \"Yanto\" : 90,\n",
    "             \"Firman\" : 40,\n",
    "             \"Memet\" : 80,\n",
    "             \"Retno\" : 100\n",
    "}"
   ]
  },
  {
   "cell_type": "code",
   "execution_count": null,
   "id": "36ff3a87",
   "metadata": {},
   "outputs": [
    {
     "name": "stdout",
     "output_type": "stream",
     "text": [
      "Supriyadi\n",
      "Retno\n"
     ]
    }
   ],
   "source": [
    "# Menampikan siswa urutan pertama dan terakhir\n",
    "print(namaSiswa[0])\n",
    "print(namaSiswa[len(namaSiswa)-1])"
   ]
  },
  {
   "cell_type": "code",
   "execution_count": null,
   "id": "5990d12d",
   "metadata": {},
   "outputs": [
    {
     "name": "stdout",
     "output_type": "stream",
     "text": [
      "['Firman', 'Memet', 'Retno']\n"
     ]
    }
   ],
   "source": [
    "# Menampilkan 3 siswa terakhir\n",
    "\n",
    "print(namaSiswa[-3:])"
   ]
  },
  {
   "cell_type": "code",
   "execution_count": null,
   "id": "13b7a1c2",
   "metadata": {},
   "outputs": [
    {
     "name": "stdout",
     "output_type": "stream",
     "text": [
      "1 Supriyadi\n",
      "2 Yanto\n",
      "3 Firman\n",
      "4 Memet\n",
      "5 Retno\n"
     ]
    }
   ],
   "source": [
    "# Mencetak indeks dan nama siswa\n",
    "\n",
    "for i in range(len(namaSiswa)):\n",
    "    print(f\"{i+1} \",end=\"\")\n",
    "    print(namaSiswa[i])"
   ]
  },
  {
   "cell_type": "code",
   "execution_count": null,
   "id": "5202e522",
   "metadata": {},
   "outputs": [
    {
     "name": "stdout",
     "output_type": "stream",
     "text": [
      "{'Supriyadi': 0, 'Yanto': 90, 'Firman': 100, 'Memet': 80}\n"
     ]
    }
   ],
   "source": [
    "\n",
    "namaSiswaNilai[\"Firman\"] = 100 # Mengubah nilai siswa dengan mengakses key/nama\n",
    "namaSiswaNilai.pop(\"Retno\") # Menghapus salah satu elemen dictionary dengan key/Nama\n",
    "\n",
    "print(namaSiswaNilai) # Menampilkannya"
   ]
  }
 ],
 "metadata": {
  "kernelspec": {
   "display_name": "Python 3",
   "language": "python",
   "name": "python3"
  },
  "language_info": {
   "codemirror_mode": {
    "name": "ipython",
    "version": 3
   },
   "file_extension": ".py",
   "mimetype": "text/x-python",
   "name": "python",
   "nbconvert_exporter": "python",
   "pygments_lexer": "ipython3",
   "version": "3.13.2"
  }
 },
 "nbformat": 4,
 "nbformat_minor": 5
}
