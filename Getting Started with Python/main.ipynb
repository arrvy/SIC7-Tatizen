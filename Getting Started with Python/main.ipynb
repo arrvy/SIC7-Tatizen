{
 "cells": [
  {
   "cell_type": "code",
   "execution_count": null,
   "id": "747cd634",
   "metadata": {},
   "outputs": [],
   "source": [
    "print(5+2)"
   ]
  }
 ],
 "metadata": {
  "kernelspec": {
   "display_name": "Python 3",
   "language": "python",
   "name": "python3"
  },
  "language_info": {
   "name": "python",
   "version": "3.13.2"
  }
 },
 "nbformat": 4,
 "nbformat_minor": 5
}
