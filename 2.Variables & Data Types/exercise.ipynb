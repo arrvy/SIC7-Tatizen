{
 "cells": [
  {
   "cell_type": "markdown",
   "id": "449d441b",
   "metadata": {},
   "source": [
    "# Exercise\n",
    "\n",
    "## 1. Tugas 1: Menyimpan dan Menampilkan Data\n",
    "\n",
    "Buatlah variabel untuk menyimpan data-data berikut:\n",
    "1. Nama produk pertama: Kopi Pagi\n",
    "2. Harga produk pertama: 18000.5\n",
    "3. Nama produk kedua: Roti Cokelat\n",
    "4. Harga produk kedua: 10000\n",
    "5. Status ketersediaan roti: True (roti tersedia)\n",
    "\n",
    "Setelah itu, cetak semua variabel tersebut dengan pesan yang jelas.\n",
    "\n",
    "Contoh Output yang Diharapkan:\n",
    "\n",
    "    Nama produk 1: Kopi Pagi\n",
    "    Harga produk 1: 18000.5\n",
    "    Nama produk 2: Roti Cokelat\n",
    "    Harga produk 2: 10000\n",
    "    Status ketersediaan roti: True"
   ]
  },
  {
   "cell_type": "code",
   "execution_count": null,
   "id": "06a5bf51",
   "metadata": {
    "vscode": {
     "languageId": "plaintext"
    }
   },
   "outputs": [],
   "source": []
  },
  {
   "cell_type": "markdown",
   "id": "20b61d99",
   "metadata": {},
   "source": [
    "## 2. Tugas 2: Konversi Tipe Data dan Input Pengguna\n",
    "\n",
    "Manajer ingin Anda membuat program yang meminta input dari pengguna.\n",
    "1. Minta pengguna untuk memasukkan jumlah pesanan kopi. Simpan input tersebut dalam variabel jumlah_kopi_str.\n",
    "2. Minta pengguna untuk memasukkan jumlah pesanan roti. Simpan input tersebut dalam variabel jumlah_roti_str.\n",
    "3. Periksa tipe data dari kedua variabel tersebut.\n",
    "4. Konversi kedua variabel string menjadi integer (int). Simpan hasilnya di variabel baru: jumlah_kopi_int dan jumlah_roti_int.\n",
    "5. Cetak kembali tipe data setelah konversi untuk memastikan berhasil.\n",
    "\n",
    "Contoh Output yang Diharapkan:\n",
    "\n",
    "    Masukkan jumlah pesanan kopi: 2\n",
    "    Masukkan jumlah pesanan roti: 3\n",
    "    Tipe data awal jumlah kopi: <class 'str'>\n",
    "    Tipe data awal jumlah roti: <class 'str'>\n",
    "    Tipe data setelah konversi: <class 'int'>"
   ]
  },
  {
   "cell_type": "code",
   "execution_count": null,
   "id": "7b17155f",
   "metadata": {
    "vscode": {
     "languageId": "plaintext"
    }
   },
   "outputs": [],
   "source": []
  },
  {
   "cell_type": "markdown",
   "id": "9db4329b",
   "metadata": {},
   "source": [
    "## 3. Tugas 3: Operasi pada Angka\n",
    "Setelah mengonversi data, hitung total harga pesanan.\n",
    "1. Hitung total harga untuk kopi. Gunakan variabel harga_kopi dari Tugas 1 dan jumlah_kopi_int dari Tugas 2.\n",
    "2. Hitung total harga untuk roti. Gunakan variabel harga_roti dari Tugas 1 dan jumlah_roti_int dari Tugas 2.\n",
    "3. Hitung total harga keseluruhan pesanan. Simpan hasilnya di variabel total_belanja.\n",
    "4. Cetak total belanja tersebut.\n",
    "5. Tambahkan satu variabel lagi, uang_bayar = 50000. Hitung kembalian dengan menggunakan operator pengurangan.\n",
    "\n",
    "Contoh Output yang Diharapkan:\n",
    "\n",
    "    Total harga kopi: 36001.0\n",
    "    Total harga roti: 30000\n",
    "    Total belanja keseluruhan: 66001.0\n",
    "    Uang yang dibayarkan: 50000\n",
    "    Kembalian: -16001.0"
   ]
  },
  {
   "cell_type": "code",
   "execution_count": null,
   "id": "b385e87b",
   "metadata": {
    "vscode": {
     "languageId": "plaintext"
    }
   },
   "outputs": [],
   "source": []
  },
  {
   "cell_type": "markdown",
   "id": "42b0b2af",
   "metadata": {},
   "source": [
    "## Tugas 4: Operasi pada String\n",
    "Buatlah struk sederhana menggunakan operasi string.\n",
    "1. Buat variabel nama_pelanggan dan isi dengan input dari pengguna.\n",
    "2. Gabungkan teks \"Terima kasih, \" dengan nama_pelanggan dan teks \" sudah berbelanja di Coffee Shop Bahagia!\" menggunakan operator\n",
    "+. Simpan dalam variabel pesan_terima_kasih.\n",
    "3. Cetak pesan_terima_kasih.\n",
    "4. Buatlah garis pemisah dengan mengulang karakter * sebanyak 25 kali. Cetak garis tersebut di atas dan di bawah pesan.\n",
    "5. Cetak pesan menggunakan f-string yang berisi nama produk kopi dan total harganya. Contoh: \"Total harga Kopi Pagi adalah\n",
    "Rp36001.0\".\n",
    "\n",
    "Contoh Output yang Diharapkan:\n",
    "\n",
    "    *************************\n",
    "    Terima kasih, [Nama Pelanggan] sudah berbelanja di Coffee Shop Bahagia!\n",
    "    *************************\n",
    "    Total harga Kopi Pagi adalah Rp36001.0"
   ]
  },
  {
   "cell_type": "code",
   "execution_count": null,
   "id": "01445880",
   "metadata": {
    "vscode": {
     "languageId": "plaintext"
    }
   },
   "outputs": [],
   "source": []
  }
 ],
 "metadata": {
  "language_info": {
   "name": "python"
  }
 },
 "nbformat": 4,
 "nbformat_minor": 5
}
