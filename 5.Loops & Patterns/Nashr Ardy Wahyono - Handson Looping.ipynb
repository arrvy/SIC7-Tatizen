{
 "cells": [
  {
   "cell_type": "markdown",
   "id": "TKjSKxcyVRxB",
   "metadata": {
    "id": "TKjSKxcyVRxB"
   },
   "source": [
    "## Recall Python"
   ]
  },
  {
   "cell_type": "markdown",
   "id": "dHJnRskDVf45",
   "metadata": {
    "id": "dHJnRskDVf45"
   },
   "source": [
    "Variables"
   ]
  },
  {
   "cell_type": "code",
   "execution_count": null,
   "id": "9ceW-DCYVqiZ",
   "metadata": {
    "id": "9ceW-DCYVqiZ"
   },
   "outputs": [
    {
     "name": "stdout",
     "output_type": "stream",
     "text": [
      "10\n"
     ]
    }
   ],
   "source": [
    "var = 10\n",
    "print(var)"
   ]
  },
  {
   "cell_type": "markdown",
   "id": "rtkw1t3SW4QH",
   "metadata": {
    "id": "rtkw1t3SW4QH"
   },
   "source": [
    "Fungsi random"
   ]
  },
  {
   "cell_type": "code",
   "execution_count": null,
   "id": "_z1ZpkNXW5cM",
   "metadata": {
    "id": "_z1ZpkNXW5cM"
   },
   "outputs": [],
   "source": [
    "import random\n",
    "\n",
    "secret = random.randint(1, 10)"
   ]
  },
  {
   "cell_type": "markdown",
   "id": "DKx72KvAVoM7",
   "metadata": {
    "id": "DKx72KvAVoM7"
   },
   "source": [
    "Variables using input"
   ]
  },
  {
   "cell_type": "code",
   "execution_count": null,
   "id": "Am8HLfHzVffZ",
   "metadata": {
    "id": "Am8HLfHzVffZ"
   },
   "outputs": [
    {
     "name": "stdout",
     "output_type": "stream",
     "text": [
      "100\n"
     ]
    }
   ],
   "source": [
    "var = int(input(\"Masukan nilai variabel\"))\n",
    "print(var)"
   ]
  },
  {
   "cell_type": "markdown",
   "id": "dkN5h1fnv1gH",
   "metadata": {
    "id": "dkN5h1fnv1gH"
   },
   "source": [
    "Variables using input application\n",
    "\n",
    "- Deklarasikan variabel alas dan tinggi\n",
    "- Hitung luas segitia\n"
   ]
  },
  {
   "cell_type": "code",
   "execution_count": 4,
   "id": "bzu5YMnQWVAu",
   "metadata": {
    "id": "bzu5YMnQWVAu"
   },
   "outputs": [
    {
     "name": "stdout",
     "output_type": "stream",
     "text": [
      "25.0\n"
     ]
    }
   ],
   "source": [
    "#Menggunakan declared variable\n",
    "panjang = 5\n",
    "lebar = 10\n",
    "\n",
    "luas = (panjang * lebar) / 2\n",
    "print(luas)"
   ]
  },
  {
   "cell_type": "code",
   "execution_count": 5,
   "id": "ULfxr37yv5yI",
   "metadata": {
    "executionInfo": {
     "elapsed": 42,
     "status": "ok",
     "timestamp": 1755949565737,
     "user": {
      "displayName": "Bale Rudal",
      "userId": "05648208646410636529"
     },
     "user_tz": -420
    },
    "id": "ULfxr37yv5yI"
   },
   "outputs": [
    {
     "name": "stdout",
     "output_type": "stream",
     "text": [
      "500.0\n"
     ]
    }
   ],
   "source": [
    "#Menggunakan input variable\n",
    "\n",
    "panjang = int(input(\"Masukan panjang: \"))\n",
    "lebar = int(input(\"Masukan lebar: \"))\n",
    "\n",
    "luas = (panjang * lebar) / 2\n",
    "print(luas)"
   ]
  },
  {
   "cell_type": "markdown",
   "id": "GKT2EA4-Vjo_",
   "metadata": {
    "id": "GKT2EA4-Vjo_"
   },
   "source": [
    "If statement"
   ]
  },
  {
   "cell_type": "code",
   "execution_count": null,
   "id": "xENp__y4VdRP",
   "metadata": {
    "id": "xENp__y4VdRP"
   },
   "outputs": [
    {
     "name": "stdout",
     "output_type": "stream",
     "text": [
      "A\n",
      "10\n"
     ]
    }
   ],
   "source": [
    "a = 10\n",
    "b = 5\n",
    "\n",
    "if a>b:\n",
    "    print(\"A\")\n",
    "else:\n",
    "    print(\"B\")\n",
    "\n",
    "print(a) if a>b else print(b) # Ternary"
   ]
  },
  {
   "cell_type": "markdown",
   "id": "cf662a94",
   "metadata": {
    "id": "cf662a94"
   },
   "source": [
    "## cat0.py"
   ]
  },
  {
   "cell_type": "code",
   "execution_count": null,
   "id": "d083c855",
   "metadata": {
    "colab": {
     "base_uri": "https://localhost:8080/"
    },
    "executionInfo": {
     "elapsed": 16,
     "status": "ok",
     "timestamp": 1755497638142,
     "user": {
      "displayName": "Bale Rudal",
      "userId": "05648208646410636529"
     },
     "user_tz": -420
    },
    "id": "d083c855",
    "outputId": "90f10104-3a3b-447f-e2dc-8e584fdf89e9"
   },
   "outputs": [
    {
     "name": "stdout",
     "output_type": "stream",
     "text": [
      "meow\n",
      "meow\n",
      "meow\n"
     ]
    }
   ],
   "source": [
    "# Demonstrates multiple (identical) function calls\n",
    "\n",
    "print(\"meow\")\n",
    "print(\"meow\")\n",
    "print(\"meow\")\n"
   ]
  },
  {
   "cell_type": "code",
   "execution_count": 9,
   "id": "xYEqW_Ylrmvh",
   "metadata": {
    "id": "xYEqW_Ylrmvh"
   },
   "outputs": [
    {
     "name": "stdout",
     "output_type": "stream",
     "text": [
      "Moo\n",
      "Moo\n",
      "Moo\n",
      "Moo\n"
     ]
    }
   ],
   "source": [
    "print(\"Moo\")\n",
    "print(\"Moo\")\n",
    "print(\"Moo\")\n",
    "print(\"Moo\")"
   ]
  },
  {
   "cell_type": "markdown",
   "id": "e324bc14",
   "metadata": {
    "id": "e324bc14"
   },
   "source": [
    "## cat1.py"
   ]
  },
  {
   "cell_type": "code",
   "execution_count": null,
   "id": "3090629f",
   "metadata": {
    "colab": {
     "base_uri": "https://localhost:8080/"
    },
    "executionInfo": {
     "elapsed": 5,
     "status": "ok",
     "timestamp": 1755497642074,
     "user": {
      "displayName": "Bale Rudal",
      "userId": "05648208646410636529"
     },
     "user_tz": -420
    },
    "id": "3090629f",
    "outputId": "34370d72-fadb-41dd-9c54-f1376810495e"
   },
   "outputs": [
    {
     "name": "stdout",
     "output_type": "stream",
     "text": [
      "meow\n",
      "meow\n",
      "meow\n"
     ]
    }
   ],
   "source": [
    "# Demonstrates a while loop, counting down\n",
    "\n",
    "i = 3\n",
    "while i != 0:\n",
    "    print(\"meow\")\n",
    "    i = i - 1\n"
   ]
  },
  {
   "cell_type": "code",
   "execution_count": 11,
   "id": "UojSAWLbrnPk",
   "metadata": {
    "id": "UojSAWLbrnPk"
   },
   "outputs": [
    {
     "name": "stdout",
     "output_type": "stream",
     "text": [
      "Angka 10\n",
      "Angka 9\n",
      "Angka 8\n",
      "Angka 7\n",
      "Angka 6\n",
      "Angka 5\n",
      "Angka 4\n",
      "Angka 3\n",
      "Angka 2\n",
      "Angka 1\n",
      "Angka 0\n"
     ]
    }
   ],
   "source": [
    "i = 10\n",
    "while i > -1:\n",
    "    print(f\"Angka {i}\")\n",
    "    i -= 1"
   ]
  },
  {
   "cell_type": "markdown",
   "id": "3cf1fc20",
   "metadata": {
    "id": "3cf1fc20"
   },
   "source": [
    "## cat2.py"
   ]
  },
  {
   "cell_type": "code",
   "execution_count": null,
   "id": "8b5526a9",
   "metadata": {
    "colab": {
     "base_uri": "https://localhost:8080/"
    },
    "executionInfo": {
     "elapsed": 4,
     "status": "ok",
     "timestamp": 1755497647846,
     "user": {
      "displayName": "Bale Rudal",
      "userId": "05648208646410636529"
     },
     "user_tz": -420
    },
    "id": "8b5526a9",
    "outputId": "f8a5d9b8-6dc4-41ee-a4ef-6f3a5e37ab86"
   },
   "outputs": [
    {
     "name": "stdout",
     "output_type": "stream",
     "text": [
      "meow\n",
      "meow\n",
      "meow\n"
     ]
    }
   ],
   "source": [
    "# Demonstrates a while loop, counting up from 1\n",
    "\n",
    "i = 1\n",
    "while i <= 3:\n",
    "    print(\"meow\")\n",
    "    i = i + 1\n"
   ]
  },
  {
   "cell_type": "markdown",
   "id": "b52e71e6",
   "metadata": {
    "id": "b52e71e6"
   },
   "source": [
    "## cat3.py"
   ]
  },
  {
   "cell_type": "code",
   "execution_count": null,
   "id": "261e1a33",
   "metadata": {
    "colab": {
     "base_uri": "https://localhost:8080/"
    },
    "executionInfo": {
     "elapsed": 15,
     "status": "ok",
     "timestamp": 1755497652113,
     "user": {
      "displayName": "Bale Rudal",
      "userId": "05648208646410636529"
     },
     "user_tz": -420
    },
    "id": "261e1a33",
    "outputId": "b2a9fd44-0597-4e92-ced1-14e260f2d5ae"
   },
   "outputs": [
    {
     "name": "stdout",
     "output_type": "stream",
     "text": [
      "meow\n",
      "meow\n",
      "meow\n"
     ]
    }
   ],
   "source": [
    "# Demonstrates a while loop, counting up from 0\n",
    "\n",
    "i = 0\n",
    "while i < 3:\n",
    "    print(\"meow\")\n",
    "    i = i + 1\n"
   ]
  },
  {
   "cell_type": "markdown",
   "id": "8db27923",
   "metadata": {
    "id": "8db27923"
   },
   "source": [
    "## cat4.py"
   ]
  },
  {
   "cell_type": "code",
   "execution_count": null,
   "id": "ac418612",
   "metadata": {
    "colab": {
     "base_uri": "https://localhost:8080/"
    },
    "executionInfo": {
     "elapsed": 5,
     "status": "ok",
     "timestamp": 1755497655842,
     "user": {
      "displayName": "Bale Rudal",
      "userId": "05648208646410636529"
     },
     "user_tz": -420
    },
    "id": "ac418612",
    "outputId": "d69783fc-1036-4849-a5dd-079e78c8c7ba"
   },
   "outputs": [
    {
     "name": "stdout",
     "output_type": "stream",
     "text": [
      "meow\n",
      "meow\n",
      "meow\n"
     ]
    }
   ],
   "source": [
    "# Demonstrates (more succinct) incrementation\n",
    "\n",
    "i = 0\n",
    "while i < 3:\n",
    "    print(\"meow\")\n",
    "    i += 1\n"
   ]
  },
  {
   "cell_type": "markdown",
   "id": "38128d9c",
   "metadata": {
    "id": "38128d9c"
   },
   "source": [
    "## cat5.py"
   ]
  },
  {
   "cell_type": "code",
   "execution_count": null,
   "id": "de2472ca",
   "metadata": {
    "colab": {
     "base_uri": "https://localhost:8080/"
    },
    "executionInfo": {
     "elapsed": 7,
     "status": "ok",
     "timestamp": 1755497660259,
     "user": {
      "displayName": "Bale Rudal",
      "userId": "05648208646410636529"
     },
     "user_tz": -420
    },
    "id": "de2472ca",
    "outputId": "1e1f13b6-e97b-418e-b45b-bd7df189d1fb"
   },
   "outputs": [
    {
     "name": "stdout",
     "output_type": "stream",
     "text": [
      "meow\n",
      "meow\n",
      "meow\n"
     ]
    }
   ],
   "source": [
    "# Demonstrates a for loop, using a list\n",
    "\n",
    "for i in [0, 1, 2]:\n",
    "    print(\"meow\")\n"
   ]
  },
  {
   "cell_type": "markdown",
   "id": "d3b065b4",
   "metadata": {
    "id": "d3b065b4"
   },
   "source": [
    "## cat6.py"
   ]
  },
  {
   "cell_type": "code",
   "execution_count": null,
   "id": "ac1e21d5",
   "metadata": {
    "colab": {
     "base_uri": "https://localhost:8080/"
    },
    "executionInfo": {
     "elapsed": 13,
     "status": "ok",
     "timestamp": 1755497663274,
     "user": {
      "displayName": "Bale Rudal",
      "userId": "05648208646410636529"
     },
     "user_tz": -420
    },
    "id": "ac1e21d5",
    "outputId": "e3681bed-c6a6-421f-e96e-5abae7a414f0"
   },
   "outputs": [
    {
     "name": "stdout",
     "output_type": "stream",
     "text": [
      "meow\n",
      "meow\n",
      "meow\n"
     ]
    }
   ],
   "source": [
    "# Demonstrates a for loop, using range\n",
    "\n",
    "for i in range(3):\n",
    "    print(\"meow\")\n"
   ]
  },
  {
   "cell_type": "markdown",
   "id": "5e122c07",
   "metadata": {
    "id": "5e122c07"
   },
   "source": [
    "## cat7.py"
   ]
  },
  {
   "cell_type": "code",
   "execution_count": null,
   "id": "8bd69dec",
   "metadata": {
    "colab": {
     "base_uri": "https://localhost:8080/"
    },
    "executionInfo": {
     "elapsed": 4,
     "status": "ok",
     "timestamp": 1755497666843,
     "user": {
      "displayName": "Bale Rudal",
      "userId": "05648208646410636529"
     },
     "user_tz": -420
    },
    "id": "8bd69dec",
    "outputId": "f9893218-c47d-478d-a4fb-20f3c0308aae"
   },
   "outputs": [
    {
     "name": "stdout",
     "output_type": "stream",
     "text": [
      "meow\n",
      "meow\n",
      "meow\n"
     ]
    }
   ],
   "source": [
    "# Demonstrates a for loop, with _ as a variable\n",
    "\n",
    "for _ in range(3):\n",
    "    print(\"meow\")\n",
    "\n",
    "\n"
   ]
  },
  {
   "cell_type": "markdown",
   "id": "ceec12e9",
   "metadata": {
    "id": "ceec12e9"
   },
   "source": [
    "## cat8.py"
   ]
  },
  {
   "cell_type": "code",
   "execution_count": null,
   "id": "a451fa3c",
   "metadata": {
    "colab": {
     "base_uri": "https://localhost:8080/"
    },
    "executionInfo": {
     "elapsed": 6,
     "status": "ok",
     "timestamp": 1755497672159,
     "user": {
      "displayName": "Bale Rudal",
      "userId": "05648208646410636529"
     },
     "user_tz": -420
    },
    "id": "a451fa3c",
    "outputId": "dbe04363-4e27-4938-d094-b7cbe11356c5"
   },
   "outputs": [
    {
     "name": "stdout",
     "output_type": "stream",
     "text": [
      "meow\n",
      "meow\n",
      "meow\n"
     ]
    }
   ],
   "source": [
    "# Demonstrates str multiplication\n",
    "\n",
    "print(\"meow\\n\" * 3, end=\"\")\n"
   ]
  },
  {
   "cell_type": "markdown",
   "id": "cae0cc20",
   "metadata": {
    "id": "cae0cc20"
   },
   "source": [
    "## cat9.py"
   ]
  },
  {
   "cell_type": "code",
   "execution_count": null,
   "id": "02ed3dc8",
   "metadata": {
    "colab": {
     "base_uri": "https://localhost:8080/"
    },
    "executionInfo": {
     "elapsed": 10187,
     "status": "ok",
     "timestamp": 1755497698683,
     "user": {
      "displayName": "Bale Rudal",
      "userId": "05648208646410636529"
     },
     "user_tz": -420
    },
    "id": "02ed3dc8",
    "outputId": "688fcc9b-9b2c-4d28-90d8-1e1bac62bf8d"
   },
   "outputs": [
    {
     "name": "stdout",
     "output_type": "stream",
     "text": [
      "What's n? -2\n",
      "What's n? 5\n",
      "meow\n",
      "meow\n",
      "meow\n",
      "meow\n",
      "meow\n"
     ]
    }
   ],
   "source": [
    "# Introduces continue, break\n",
    "\n",
    "while True:\n",
    "    n = int(input(\"What's n? \"))\n",
    "    if n <= 0:\n",
    "        continue\n",
    "    else:\n",
    "        break\n",
    "\n",
    "for _ in range(n):\n",
    "    print(\"meow\")\n"
   ]
  },
  {
   "cell_type": "markdown",
   "id": "7f0d97df",
   "metadata": {
    "id": "7f0d97df"
   },
   "source": [
    "## cat10.py"
   ]
  },
  {
   "cell_type": "code",
   "execution_count": null,
   "id": "95f6f034",
   "metadata": {
    "colab": {
     "base_uri": "https://localhost:8080/"
    },
    "executionInfo": {
     "elapsed": 2037,
     "status": "ok",
     "timestamp": 1755497716616,
     "user": {
      "displayName": "Bale Rudal",
      "userId": "05648208646410636529"
     },
     "user_tz": -420
    },
    "id": "95f6f034",
    "outputId": "e9960874-5297-4ee0-b780-76ce216823cf"
   },
   "outputs": [
    {
     "name": "stdout",
     "output_type": "stream",
     "text": [
      "What's n? 5\n",
      "meow\n",
      "meow\n",
      "meow\n",
      "meow\n",
      "meow\n"
     ]
    }
   ],
   "source": [
    "# Removes continue\n",
    "\n",
    "while True:\n",
    "    n = int(input(\"What's n? \"))\n",
    "    if n > 0:\n",
    "        break\n",
    "\n",
    "for _ in range(n):\n",
    "    print(\"meow\")\n"
   ]
  },
  {
   "cell_type": "markdown",
   "id": "b878b99d",
   "metadata": {
    "id": "b878b99d"
   },
   "source": [
    "## cat11.py"
   ]
  },
  {
   "cell_type": "markdown",
   "id": "fc12df89",
   "metadata": {
    "id": "fc12df89"
   },
   "source": [
    "## hogwarts0.py"
   ]
  },
  {
   "cell_type": "code",
   "execution_count": null,
   "id": "a0bc86d4",
   "metadata": {
    "colab": {
     "base_uri": "https://localhost:8080/"
    },
    "executionInfo": {
     "elapsed": 16,
     "status": "ok",
     "timestamp": 1755497743906,
     "user": {
      "displayName": "Bale Rudal",
      "userId": "05648208646410636529"
     },
     "user_tz": -420
    },
    "id": "a0bc86d4",
    "outputId": "f5877aff-0628-4863-b619-1eb2cca623cc"
   },
   "outputs": [
    {
     "name": "stdout",
     "output_type": "stream",
     "text": [
      "Hermione\n",
      "Harry\n",
      "Ron\n"
     ]
    }
   ],
   "source": [
    "# Demonstrates indexing into a list\n",
    "\n",
    "students = [\"Hermione\", \"Harry\", \"Ron\"]\n",
    "\n",
    "print(students[0])\n",
    "print(students[1])\n",
    "print(students[2])\n"
   ]
  },
  {
   "cell_type": "markdown",
   "id": "dd0bd51e",
   "metadata": {
    "id": "dd0bd51e"
   },
   "source": [
    "## hogwarts1.py"
   ]
  },
  {
   "cell_type": "code",
   "execution_count": null,
   "id": "cd63c011",
   "metadata": {
    "colab": {
     "base_uri": "https://localhost:8080/"
    },
    "executionInfo": {
     "elapsed": 7,
     "status": "ok",
     "timestamp": 1755497746343,
     "user": {
      "displayName": "Bale Rudal",
      "userId": "05648208646410636529"
     },
     "user_tz": -420
    },
    "id": "cd63c011",
    "outputId": "09a5376e-52d5-4bac-ba64-3dcfd0807c1d"
   },
   "outputs": [
    {
     "name": "stdout",
     "output_type": "stream",
     "text": [
      "Hermione\n",
      "Harry\n",
      "Ron\n"
     ]
    }
   ],
   "source": [
    "# Demonstrates iterating over a list\n",
    "\n",
    "students = [\"Hermione\", \"Harry\", \"Ron\"]\n",
    "\n",
    "for student in students:\n",
    "    print(student)\n"
   ]
  },
  {
   "cell_type": "markdown",
   "id": "92c00e4b",
   "metadata": {
    "id": "92c00e4b"
   },
   "source": [
    "## hogwarts2.py"
   ]
  },
  {
   "cell_type": "code",
   "execution_count": null,
   "id": "19e1a028",
   "metadata": {
    "colab": {
     "base_uri": "https://localhost:8080/"
    },
    "executionInfo": {
     "elapsed": 8,
     "status": "ok",
     "timestamp": 1755497749660,
     "user": {
      "displayName": "Bale Rudal",
      "userId": "05648208646410636529"
     },
     "user_tz": -420
    },
    "id": "19e1a028",
    "outputId": "596d06bf-e12a-4daa-d142-64799f0faca7"
   },
   "outputs": [
    {
     "name": "stdout",
     "output_type": "stream",
     "text": [
      "1 Hermione\n",
      "2 Harry\n",
      "3 Ron\n"
     ]
    }
   ],
   "source": [
    "# Demonstrates iterating over and indexing into a list\n",
    "\n",
    "students = [\"Hermione\", \"Harry\", \"Ron\"]\n",
    "\n",
    "for i in range(len(students)):\n",
    "    print(i + 1, students[i])\n"
   ]
  },
  {
   "cell_type": "markdown",
   "id": "1e8d86c8",
   "metadata": {
    "id": "1e8d86c8"
   },
   "source": [
    "## hogwarts3.py"
   ]
  },
  {
   "cell_type": "code",
   "execution_count": null,
   "id": "e382aa0f",
   "metadata": {
    "colab": {
     "base_uri": "https://localhost:8080/"
    },
    "executionInfo": {
     "elapsed": 5,
     "status": "ok",
     "timestamp": 1755497758630,
     "user": {
      "displayName": "Bale Rudal",
      "userId": "05648208646410636529"
     },
     "user_tz": -420
    },
    "id": "e382aa0f",
    "outputId": "68075401-9714-45bc-fa2c-87e676634283"
   },
   "outputs": [
    {
     "name": "stdout",
     "output_type": "stream",
     "text": [
      "Gryffindor\n",
      "Gryffindor\n",
      "Gryffindor\n",
      "Slytherin\n"
     ]
    }
   ],
   "source": [
    "# Demonstrates indexing into a dict\n",
    "\n",
    "students = {\n",
    "    \"Hermione\": \"Gryffindor\",\n",
    "    \"Harry\": \"Gryffindor\",\n",
    "    \"Ron\": \"Gryffindor\",\n",
    "    \"Draco\": \"Slytherin\",\n",
    "}\n",
    "\n",
    "print(students[\"Hermione\"])\n",
    "print(students[\"Harry\"])\n",
    "print(students[\"Ron\"])\n",
    "print(students[\"Draco\"])\n"
   ]
  },
  {
   "cell_type": "markdown",
   "id": "3646394f",
   "metadata": {
    "id": "3646394f"
   },
   "source": [
    "## hogwarts4.py"
   ]
  },
  {
   "cell_type": "code",
   "execution_count": null,
   "id": "1d99083b",
   "metadata": {
    "colab": {
     "base_uri": "https://localhost:8080/"
    },
    "executionInfo": {
     "elapsed": 5,
     "status": "ok",
     "timestamp": 1755497763805,
     "user": {
      "displayName": "Bale Rudal",
      "userId": "05648208646410636529"
     },
     "user_tz": -420
    },
    "id": "1d99083b",
    "outputId": "5b1ae1ac-02b6-4a47-bd0d-bfef5dea1bd4"
   },
   "outputs": [
    {
     "name": "stdout",
     "output_type": "stream",
     "text": [
      "Hermione, Gryffindor\n",
      "Harry, Gryffindor\n",
      "Ron, Gryffindor\n",
      "Draco, Slytherin\n"
     ]
    }
   ],
   "source": [
    "# Demonstrates iterating over and index into a dict\n",
    "\n",
    "students = {\n",
    "    \"Hermione\": \"Gryffindor\",\n",
    "    \"Harry\": \"Gryffindor\",\n",
    "    \"Ron\": \"Gryffindor\",\n",
    "    \"Draco\": \"Slytherin\",\n",
    "}\n",
    "\n",
    "for student in students:\n",
    "    print(student, students[student], sep=\", \")\n"
   ]
  },
  {
   "cell_type": "markdown",
   "id": "3b67c7bf",
   "metadata": {
    "id": "3b67c7bf"
   },
   "source": [
    "## hogwarts5.py"
   ]
  },
  {
   "cell_type": "code",
   "execution_count": null,
   "id": "577015c9",
   "metadata": {
    "colab": {
     "base_uri": "https://localhost:8080/"
    },
    "executionInfo": {
     "elapsed": 6,
     "status": "ok",
     "timestamp": 1755497769179,
     "user": {
      "displayName": "Bale Rudal",
      "userId": "05648208646410636529"
     },
     "user_tz": -420
    },
    "id": "577015c9",
    "outputId": "485a43a3-3242-40a7-9c79-31e1b8f42eb2"
   },
   "outputs": [
    {
     "name": "stdout",
     "output_type": "stream",
     "text": [
      "Hermione, Gryffindor, Otter\n",
      "Harry, Gryffindor, Stag\n",
      "Ron, Gryffindor, Jack Russell terrier\n",
      "Draco, Slytherin, None\n"
     ]
    }
   ],
   "source": [
    "# Demonstrates iterating over a list of dict objects\n",
    "\n",
    "students = [\n",
    "    {\"name\": \"Hermione\", \"house\": \"Gryffindor\", \"patronus\": \"Otter\"},\n",
    "    {\"name\": \"Harry\", \"house\": \"Gryffindor\", \"patronus\": \"Stag\"},\n",
    "    {\"name\": \"Ron\", \"house\": \"Gryffindor\", \"patronus\": \"Jack Russell terrier\"},\n",
    "    {\"name\": \"Draco\", \"house\": \"Slytherin\", \"patronus\": None},\n",
    "]\n",
    "\n",
    "for student in students:\n",
    "    print(student[\"name\"], student[\"house\"], student[\"patronus\"], sep=\", \")\n"
   ]
  },
  {
   "cell_type": "markdown",
   "id": "T5NWNfFQaTnG",
   "metadata": {
    "id": "T5NWNfFQaTnG"
   },
   "source": [
    "##hogwart6.py"
   ]
  },
  {
   "cell_type": "code",
   "execution_count": null,
   "id": "s8VR-VWKZUQI",
   "metadata": {
    "id": "s8VR-VWKZUQI"
   },
   "outputs": [],
   "source": [
    "# Defining the electronics dictionary\n",
    "\n",
    "film_dict = {\n",
    "  \"brand\": [\"Lord of the Rings\",\"Game of Thrones\",\"Harry Potter\"],\n",
    "  \"genre\": [\"High Fantasy\",\"Medieval Fiction\",'Science Fiction'],\n",
    "  \"year\": [2001, 2011, 2001]}\n",
    "\n",
    "film_dict"
   ]
  },
  {
   "cell_type": "code",
   "execution_count": null,
   "id": "tMCu5QfVaa26",
   "metadata": {
    "id": "tMCu5QfVaa26"
   },
   "outputs": [],
   "source": [
    "# Iterating over a dictionary\n",
    "\n",
    "for i_key in film_dict:\n",
    "    print(i_key)"
   ]
  },
  {
   "cell_type": "code",
   "execution_count": null,
   "id": "yaJBXZZBadFn",
   "metadata": {
    "id": "yaJBXZZBadFn"
   },
   "outputs": [],
   "source": [
    "#Call dictionary items\n",
    "film_dict.items()"
   ]
  },
  {
   "cell_type": "code",
   "execution_count": 1,
   "id": "PGXNoUD7ahd1",
   "metadata": {
    "executionInfo": {
     "elapsed": 11,
     "status": "ok",
     "timestamp": 1755994277386,
     "user": {
      "displayName": "Bale Rudal",
      "userId": "05648208646410636529"
     },
     "user_tz": -420
    },
    "id": "PGXNoUD7ahd1"
   },
   "outputs": [],
   "source": [
    "#Iterate over the items\n",
    "for i_key, j_value in film_dict.items():\n",
    "    print('This is the'+ \" \"+ i_key + \",\"+\" these are the values:\", j_value)"
   ]
  },
  {
   "cell_type": "code",
   "execution_count": 2,
   "id": "A1yEr8LdamYp",
   "metadata": {
    "executionInfo": {
     "elapsed": 2,
     "status": "ok",
     "timestamp": 1755994303687,
     "user": {
      "displayName": "Bale Rudal",
      "userId": "05648208646410636529"
     },
     "user_tz": -420
    },
    "id": "A1yEr8LdamYp"
   },
   "outputs": [],
   "source": [
    "#Iterate over the items using nested loop\n",
    "for i_key in electronics_dict:                 # initial loop (each \"i_key\" would be the key of the dictionary)\n",
    "    for j_value in electronics_dict[i_key]:    # inner loop (each \"j_value\" would be the values associated with each \"i_key\")\n",
    "        print(j_value)                         # printing out the values based on the key - variable \"i_key\""
   ]
  },
  {
   "cell_type": "markdown",
   "id": "619a6ad6",
   "metadata": {
    "id": "619a6ad6"
   },
   "source": [
    "## mario0.py"
   ]
  },
  {
   "cell_type": "code",
   "execution_count": null,
   "id": "805a99fe",
   "metadata": {
    "colab": {
     "base_uri": "https://localhost:8080/"
    },
    "executionInfo": {
     "elapsed": 12,
     "status": "ok",
     "timestamp": 1755497778139,
     "user": {
      "displayName": "Bale Rudal",
      "userId": "05648208646410636529"
     },
     "user_tz": -420
    },
    "id": "805a99fe",
    "outputId": "74aab5d3-89d5-47fa-a437-a2786ef5f696"
   },
   "outputs": [
    {
     "name": "stdout",
     "output_type": "stream",
     "text": [
      "#\n",
      "#\n",
      "#\n"
     ]
    }
   ],
   "source": [
    "# Prints a column of bricks\n",
    "\n",
    "print(\"#\")\n",
    "print(\"#\")\n",
    "print(\"#\")\n"
   ]
  },
  {
   "cell_type": "markdown",
   "id": "f97e7ebb",
   "metadata": {
    "id": "f97e7ebb"
   },
   "source": [
    "## mario1.py"
   ]
  },
  {
   "cell_type": "code",
   "execution_count": null,
   "id": "9ba0670f",
   "metadata": {
    "colab": {
     "base_uri": "https://localhost:8080/"
    },
    "executionInfo": {
     "elapsed": 12,
     "status": "ok",
     "timestamp": 1755497783238,
     "user": {
      "displayName": "Bale Rudal",
      "userId": "05648208646410636529"
     },
     "user_tz": -420
    },
    "id": "9ba0670f",
    "outputId": "88d01861-154e-4b66-e82a-ddac2d2fad07"
   },
   "outputs": [
    {
     "name": "stdout",
     "output_type": "stream",
     "text": [
      "#\n",
      "#\n",
      "#\n"
     ]
    }
   ],
   "source": [
    "# Prints column of bricks using a loop\n",
    "\n",
    "for _ in range(3):\n",
    "    print(\"#\")\n"
   ]
  },
  {
   "cell_type": "markdown",
   "id": "bf9c75c0",
   "metadata": {
    "id": "bf9c75c0"
   },
   "source": [
    "## mario2.py"
   ]
  },
  {
   "cell_type": "code",
   "execution_count": null,
   "id": "4bf1e388",
   "metadata": {
    "id": "4bf1e388"
   },
   "outputs": [],
   "source": [
    "# Prints a column of bricks using a loop (no functions)\n",
    "\n",
    "height = 3\n",
    "\n",
    "for _ in range(height):\n",
    "    print(\"#\")\n",
    "\n",
    "\n",
    "\n",
    "\n",
    "\n",
    "\n"
   ]
  },
  {
   "cell_type": "markdown",
   "id": "0b902d7a",
   "metadata": {
    "id": "0b902d7a"
   },
   "source": [
    "## mario3.py"
   ]
  },
  {
   "cell_type": "code",
   "execution_count": null,
   "id": "444e89d4",
   "metadata": {
    "id": "444e89d4"
   },
   "outputs": [],
   "source": [
    "# Prints a column of bricks using string multiplication (no functions)\n",
    "\n",
    "height = 3\n",
    "\n",
    "print(\"#\\n\" * height, end=\"\")\n"
   ]
  },
  {
   "cell_type": "markdown",
   "id": "79cd6450",
   "metadata": {
    "id": "79cd6450"
   },
   "source": [
    "## mario4.py"
   ]
  },
  {
   "cell_type": "code",
   "execution_count": 1,
   "id": "e7edc745",
   "metadata": {
    "colab": {
     "base_uri": "https://localhost:8080/"
    },
    "executionInfo": {
     "elapsed": 13,
     "status": "ok",
     "timestamp": 1755948568083,
     "user": {
      "displayName": "Bale Rudal",
      "userId": "05648208646410636529"
     },
     "user_tz": -420
    },
    "id": "e7edc745",
    "outputId": "5e6abdf8-f518-43ee-e4ba-c22c4817b18e"
   },
   "outputs": [
    {
     "name": "stdout",
     "output_type": "stream",
     "text": [
      "????\n"
     ]
    }
   ],
   "source": [
    "# Prints a row of coins using string multiplication (no functions)\n",
    "\n",
    "width = 4\n",
    "\n",
    "print(\"?\" * width)\n",
    "\n"
   ]
  },
  {
   "cell_type": "markdown",
   "id": "b2fed902",
   "metadata": {
    "id": "b2fed902"
   },
   "source": [
    "## mario5.py"
   ]
  },
  {
   "cell_type": "code",
   "execution_count": null,
   "id": "c359f5d3",
   "metadata": {
    "id": "c359f5d3"
   },
   "outputs": [],
   "source": [
    "# Prints a square of bricks using nested loops (no functions)\n",
    "\n",
    "size = 3\n",
    "\n",
    "for i in range(size):\n",
    "    for j in range(size):\n",
    "        print(\"#\", end=\"\")\n",
    "    print()\n",
    "\n",
    "\n",
    "\n",
    "\n",
    "\n",
    "\n"
   ]
  },
  {
   "cell_type": "markdown",
   "id": "46e928ac",
   "metadata": {
    "id": "46e928ac"
   },
   "source": [
    "## mario6.py"
   ]
  },
  {
   "cell_type": "code",
   "execution_count": null,
   "id": "9bb73852",
   "metadata": {
    "id": "9bb73852"
   },
   "outputs": [],
   "source": [
    "# Prints a square of bricks using a loop and string multiplication (no functions)\n",
    "\n",
    "size = 3\n",
    "\n",
    "for _ in range(size):\n",
    "    print(\"#\" * size)\n",
    "\n",
    "\n",
    "\n",
    "\n"
   ]
  },
  {
   "cell_type": "markdown",
   "id": "Cuzn9vJmriGH",
   "metadata": {
    "id": "Cuzn9vJmriGH"
   },
   "source": [
    "##Example 1\n",
    "\n",
    "Terdapat sebuah list bilangan yang terdiri atas 10,22,33,40,55,60\n",
    "\n",
    "Untuk setiap elemen di dalam list, tentukan apakah bilangan tersebut :\n",
    "\n",
    "a. kelipatan 10 dan habis dibagi 2\n",
    "\n",
    "b. bukan kelipatan 10 namun habis dibagi 2\n",
    "\n",
    "c. bukan kelipatan 10 maupun 2"
   ]
  },
  {
   "cell_type": "code",
   "execution_count": null,
   "id": "i0x6awi0rfhR",
   "metadata": {
    "id": "i0x6awi0rfhR"
   },
   "outputs": [],
   "source": []
  },
  {
   "cell_type": "markdown",
   "id": "Yd_C0f3Dtl3v",
   "metadata": {
    "id": "Yd_C0f3Dtl3v"
   },
   "source": [
    "##Example 2\n"
   ]
  },
  {
   "cell_type": "code",
   "execution_count": null,
   "id": "bpJhDZsKrq_-",
   "metadata": {
    "id": "bpJhDZsKrq_-"
   },
   "outputs": [],
   "source": [
    "for x in range(10,30):\n",
    "  if x%2==0 and x%5==0:\n",
    "    print(f\"{x} adalah bilangan  yang habis di bagi 2 dan 5\")\n",
    "  elif x%3==0 and x%2 == 1:\n",
    "    print(f\"{x} adalah bilangan habis di bagi 3 dan {x} adalah bilangan ganjil\")\n",
    "  elif x%7==0:\n",
    "    print(f\"{x} adalah bilangan kelipatan 7\")\n",
    "  else:\n",
    "    print(x)"
   ]
  },
  {
   "cell_type": "markdown",
   "id": "5K_MsMPHrn8m",
   "metadata": {
    "id": "5K_MsMPHrn8m"
   },
   "source": [
    "##Example 2\n",
    "\n",
    "Buatlah sebuah list yang terdiri atas bilangan dari 10 hingga 30 (gunakan fungsi range)\n",
    "\n",
    "Untuk setiap elemen di dalam list, tentukan apakah bilangan tersebut :\n",
    "\n",
    "a. habis dibagi 2 dan 5\n",
    "\n",
    "b. habis dibagi 3 dan merupakan ganjil\n",
    "\n",
    "c. kelipatan 7\n",
    "\n",
    "sisanya, hanya tampilkan bilangan tersebut"
   ]
  },
  {
   "cell_type": "markdown",
   "id": "3OGJD4hK2RJ_",
   "metadata": {
    "id": "3OGJD4hK2RJ_"
   },
   "source": [
    "Case 1\n",
    "\n",
    "Hitung penjumlahan semua elemen di dalam list"
   ]
  },
  {
   "cell_type": "code",
   "execution_count": null,
   "id": "n__T7hMA2DHi",
   "metadata": {
    "colab": {
     "base_uri": "https://localhost:8080/"
    },
    "executionInfo": {
     "elapsed": 6,
     "status": "ok",
     "timestamp": 1755498169188,
     "user": {
      "displayName": "Bale Rudal",
      "userId": "05648208646410636529"
     },
     "user_tz": -420
    },
    "id": "n__T7hMA2DHi",
    "outputId": "a2393d88-bb6c-4fd0-a603-9b9f48cc05d3"
   },
   "outputs": [
    {
     "name": "stdout",
     "output_type": "stream",
     "text": [
      "Sum: 24\n"
     ]
    }
   ],
   "source": [
    "numbers = [3, 5, 7, 9]\n",
    "total = 0"
   ]
  },
  {
   "cell_type": "markdown",
   "id": "xqJsqJ432XoA",
   "metadata": {
    "id": "xqJsqJ432XoA"
   },
   "source": [
    "Case 2\n",
    "\n",
    "Hitunglah jumlah tiap karakter yang ada di dalam text, dengan format dictionary"
   ]
  },
  {
   "cell_type": "code",
   "execution_count": null,
   "id": "CFNXLgz62EHd",
   "metadata": {
    "colab": {
     "base_uri": "https://localhost:8080/"
    },
    "executionInfo": {
     "elapsed": 46,
     "status": "ok",
     "timestamp": 1755498280261,
     "user": {
      "displayName": "Bale Rudal",
      "userId": "05648208646410636529"
     },
     "user_tz": -420
    },
    "id": "CFNXLgz62EHd",
    "outputId": "1a03d5dd-f817-408c-e983-a245e9f98f33"
   },
   "outputs": [
    {
     "name": "stdout",
     "output_type": "stream",
     "text": [
      "{'b': 1, 'a': 3, 'n': 2}\n"
     ]
    }
   ],
   "source": [
    "text = \"banana\"\n",
    "freq = {}\n"
   ]
  },
  {
   "cell_type": "markdown",
   "id": "Soh8Ol_N2pz0",
   "metadata": {
    "id": "Soh8Ol_N2pz0"
   },
   "source": [
    "Case 3\n",
    "\n",
    "Fizz Buzz"
   ]
  },
  {
   "cell_type": "code",
   "execution_count": null,
   "id": "WVe4K87G2Fdo",
   "metadata": {
    "colab": {
     "base_uri": "https://localhost:8080/"
    },
    "executionInfo": {
     "elapsed": 42,
     "status": "ok",
     "timestamp": 1755498331721,
     "user": {
      "displayName": "Bale Rudal",
      "userId": "05648208646410636529"
     },
     "user_tz": -420
    },
    "id": "WVe4K87G2Fdo",
    "outputId": "7f709a40-e574-49aa-d252-9bd3aa9f5949"
   },
   "outputs": [
    {
     "name": "stdout",
     "output_type": "stream",
     "text": [
      "1\n",
      "2\n",
      "Fizz\n",
      "4\n",
      "Buzz\n",
      "Fizz\n",
      "7\n",
      "8\n",
      "Fizz\n",
      "Buzz\n",
      "11\n",
      "Fizz\n",
      "13\n",
      "14\n",
      "FizzBuzz\n",
      "16\n",
      "17\n",
      "Fizz\n",
      "19\n",
      "Buzz\n"
     ]
    }
   ],
   "source": [
    "for i in range(1, 21):\n"
   ]
  },
  {
   "cell_type": "code",
   "execution_count": null,
   "id": "NB1UhrdV2rzy",
   "metadata": {
    "id": "NB1UhrdV2rzy"
   },
   "outputs": [],
   "source": []
  },
  {
   "cell_type": "markdown",
   "id": "4YX2TzEc2vRk",
   "metadata": {
    "id": "4YX2TzEc2vRk"
   },
   "source": [
    "Case 4\n",
    "\n",
    "Buatlah sekumpulan matrix 5x5 yang terdiri atas perkalian antara tiap elemen 1-5"
   ]
  },
  {
   "cell_type": "code",
   "execution_count": null,
   "id": "lygeqc-V2wTv",
   "metadata": {
    "colab": {
     "base_uri": "https://localhost:8080/"
    },
    "executionInfo": {
     "elapsed": 10,
     "status": "ok",
     "timestamp": 1755498351057,
     "user": {
      "displayName": "Bale Rudal",
      "userId": "05648208646410636529"
     },
     "user_tz": -420
    },
    "id": "lygeqc-V2wTv",
    "outputId": "4e1fbea3-6d2d-4446-84e9-d353423846c1"
   },
   "outputs": [
    {
     "name": "stdout",
     "output_type": "stream",
     "text": [
      " 1  2  3  4  5 \n",
      " 2  4  6  8 10 \n",
      " 3  6  9 12 15 \n",
      " 4  8 12 16 20 \n",
      " 5 10 15 20 25 \n"
     ]
    }
   ],
   "source": [
    "for i in range(1, 6):\n",
    "    for j in range(1, 6):"
   ]
  },
  {
   "cell_type": "code",
   "execution_count": null,
   "id": "qKQZatvy2wiY",
   "metadata": {
    "id": "qKQZatvy2wiY"
   },
   "outputs": [],
   "source": []
  },
  {
   "cell_type": "markdown",
   "id": "Yd7q_KFb20Xl",
   "metadata": {
    "id": "Yd7q_KFb20Xl"
   },
   "source": [
    "Guest Until Correct"
   ]
  },
  {
   "cell_type": "code",
   "execution_count": null,
   "id": "pxnLtgOQ21ic",
   "metadata": {
    "id": "pxnLtgOQ21ic"
   },
   "outputs": [],
   "source": [
    "\n"
   ]
  },
  {
   "cell_type": "markdown",
   "id": "D68holWJ2-Po",
   "metadata": {
    "id": "D68holWJ2-Po"
   },
   "source": [
    "Case 5\n",
    "\n",
    "Bilangan Prima\n",
    "\n",
    "Buatkan syntaxnya\n",
    "1. deklarasikan sebuah variable integer dari input sebagai angka awal\n",
    "2. deklarasikan sebuah variable integer dari input sebagai angka akhir\n",
    "3. buat logic looping dengan komponen\n",
    "- angkanya harus berupa bilangan bulat lebih dari 1, jika tidak, langsung hentikan dan berikan peringatan 'Angka harus lebih dari 1'\n",
    "\n",
    "jika memenuhi syarat di atas,\n",
    "- jika dia hanya bisa dibagi oleh dirinya sendiri, munculkan angkanya\n",
    "(untuk memudahkan, lakukan looping dari 2 hingga angka sebelum angka itu sendiri)"
   ]
  },
  {
   "cell_type": "code",
   "execution_count": 3,
   "id": "4-ut3G3G3ALo",
   "metadata": {
    "colab": {
     "base_uri": "https://localhost:8080/"
    },
    "executionInfo": {
     "elapsed": 2723,
     "status": "ok",
     "timestamp": 1755949347888,
     "user": {
      "displayName": "Bale Rudal",
      "userId": "05648208646410636529"
     },
     "user_tz": -420
    },
    "id": "4-ut3G3G3ALo",
    "outputId": "540e77ef-3c09-43f4-82d5-a0af0b1ec1cd"
   },
   "outputs": [
    {
     "name": "stdout",
     "output_type": "stream",
     "text": [
      "Masukkan angka awal: 5\n",
      "Masukkan angka akhir: 10\n",
      "Bilangan prima antara 5 dan 10 adalah:\n",
      "5\n",
      "7\n"
     ]
    }
   ],
   "source": []
  },
  {
   "cell_type": "code",
   "execution_count": null,
   "id": "Ncdd4d6h3Bk2",
   "metadata": {
    "id": "Ncdd4d6h3Bk2"
   },
   "outputs": [],
   "source": []
  }
 ],
 "metadata": {
  "colab": {
   "provenance": [
    {
     "file_id": "1mkrY7DoNplViwN6h39D-8fQuWbqBtDH3",
     "timestamp": 1755913964503
    },
    {
     "file_id": "1cH43GCRRuvkwbn2jhGvnxv6E5JUPMYMW",
     "timestamp": 1755497454640
    }
   ]
  },
  "kernelspec": {
   "display_name": "Python 3",
   "name": "python3"
  },
  "language_info": {
   "codemirror_mode": {
    "name": "ipython",
    "version": 3
   },
   "file_extension": ".py",
   "mimetype": "text/x-python",
   "name": "python",
   "nbconvert_exporter": "python",
   "pygments_lexer": "ipython3",
   "version": "3.13.2"
  }
 },
 "nbformat": 4,
 "nbformat_minor": 5
}
