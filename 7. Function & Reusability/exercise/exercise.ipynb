{
 "cells": [
  {
   "cell_type": "markdown",
   "id": "dc1dce65",
   "metadata": {},
   "source": [
    "# Exercise : Brief Assignment\n",
    "\n",
    "## Konversi suhu :\n",
    "1. Buat program untuk menentukan konversi satuan suhu ruangan\n",
    "2. Buat fungsi di utils.py bernama konversi_suhu(nilai, dari, ke)\n",
    "   - nilai: angka suhu yang akan dikonversi\n",
    "   - dari: satuan asal (\"c\", \"f\", \"k\")\n",
    "   - ke: satuan tujuan (\"c\", \"f\", \"k\")\n",
    "   - Return hasil konversi atau pesan error jika input tidak valid.\n",
    "3. Validasi input:\n",
    "   - Pastikan satuan (dari dan ke) hanya \"c\", \"f\", atau \"k\" (tidak case sensitive).\n",
    "   - Pastikan nilai suhu valid:\n",
    "   - Kelvin tidak boleh negatif.\n",
    "Untuk Celsius & Fahrenheit, boleh negatif.\n",
    "1. Di file utama :\n",
    "   - Minta user memilih satuan asal & tujuan.\n",
    "   - Minta user memasukkan nilai suhu.\n",
    "   - Tampilkan hasil konversinya dengan output :\n",
    "  \n",
    "\n",
    "\n"
   ]
  },
  {
   "cell_type": "code",
   "execution_count": 4,
   "id": "e121e00b",
   "metadata": {},
   "outputs": [
    {
     "name": "stdout",
     "output_type": "stream",
     "text": [
      "====================================================================================================\n",
      "||                                     APLIKASI KONVERSI SUHU                                     ||\n",
      "====================================================================================================\n",
      "\n",
      "Selamat datang di aplikasi konversi suhu!\n",
      "Aplikasi ini akan membantu Anda mengkonversi suhu.\n",
      "Hasil: 100.0°F = +310.93°K\n",
      "====================================================================================================\n",
      "||                          TERIMA KASIH TELAH MENGGUNAKAN APLIKASI INI!                          ||\n",
      "====================================================================================================\n"
     ]
    }
   ],
   "source": [
    "from utils import konversi_suhu as ks\n",
    "from utils import inputValidation\n",
    "from opening import opening,closing\n",
    "\n",
    "\n",
    "def main():\n",
    "    loop = True\n",
    "    while loop:\n",
    "        unit,unitNew = 0,0\n",
    "        strUnit = \"Dari satuan (f/c/k): \"\n",
    "        strUnitNew = \"ke satuan (f/c/k): \"\n",
    "\n",
    "        unit = inputValidation(unit,strUnit)\n",
    "        try:\n",
    "            value = float(input(\"Masukan Nilai \"))\n",
    "        except:\n",
    "            print(\"Masukan nilai bilangan kocak\")\n",
    "            continue\n",
    "\n",
    "        unitNew = inputValidation(unitNew,strUnitNew)\n",
    "\n",
    "        print(f\"Hasil: {value}°{unit} = {ks(value,unit,unitNew):+.2f}°{unitNew}\",)\n",
    "        condition = \"\"\n",
    "        while True:\n",
    "            condition = input(\"Apakah mau menghitung nilai lain lagi? [Y/N]: \").strip().upper()\n",
    "            # print(condition)\n",
    "            match condition:\n",
    "                case \"Y\":\n",
    "                    break\n",
    "                case \"N\":\n",
    "                    loop = False\n",
    "                    break\n",
    "                case _:\n",
    "                    continue\n",
    "                \n",
    "\n",
    "if __name__ == \"__main__\":\n",
    "    opening()\n",
    "    main()\n",
    "    closing()\n"
   ]
  }
 ],
 "metadata": {
  "kernelspec": {
   "display_name": "Python 3",
   "language": "python",
   "name": "python3"
  },
  "language_info": {
   "codemirror_mode": {
    "name": "ipython",
    "version": 3
   },
   "file_extension": ".py",
   "mimetype": "text/x-python",
   "name": "python",
   "nbconvert_exporter": "python",
   "pygments_lexer": "ipython3",
   "version": "3.13.2"
  }
 },
 "nbformat": 4,
 "nbformat_minor": 5
}
