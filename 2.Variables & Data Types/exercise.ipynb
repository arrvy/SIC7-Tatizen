{
 "cells": [
  {
   "cell_type": "markdown",
   "id": "449d441b",
   "metadata": {},
   "source": [
    "# Exercise\n",
    "\n",
    "## 1. Tugas 1: Menyimpan dan Menampilkan Data\n",
    "\n",
    "Buatlah variabel untuk menyimpan data-data berikut:\n",
    "1. Nama produk pertama: Kopi Pagi\n",
    "2. Harga produk pertama: 18000.5\n",
    "3. Nama produk kedua: Roti Cokelat\n",
    "4. Harga produk kedua: 10000\n",
    "5. Status ketersediaan roti: True (roti tersedia)\n",
    "\n",
    "Setelah itu, cetak semua variabel tersebut dengan pesan yang jelas.\n",
    "\n",
    "Contoh Output yang Diharapkan:\n",
    "\n",
    "    Nama produk 1: Kopi Pagi\n",
    "    Harga produk 1: 18000.5\n",
    "    Nama produk 2: Roti Cokelat\n",
    "    Harga produk 2: 10000\n",
    "    Status ketersediaan roti: True"
   ]
  },
  {
   "cell_type": "code",
   "execution_count": 3,
   "id": "06a5bf51",
   "metadata": {},
   "outputs": [
    {
     "name": "stdout",
     "output_type": "stream",
     "text": [
      "Nama produk 1: Kopi Pagi\n",
      "Harga produk 1: 18000.5\n",
      "Nama produk 2: Roti Cokelat\n",
      "Harga produk 2: 10000\n",
      "Status ketersediaan roti: True\n"
     ]
    }
   ],
   "source": [
    "nama_kopi = \"Kopi Pagi\"\n",
    "nama_roti = \"Roti Cokelat\"\n",
    "harga_kopi = 18_000.5\n",
    "harga_roti = 10_000\n",
    "isRotiAvailable = False # Kita declare dulu sebagai placeholder, jangan buat di dalam if doang\n",
    "if (nama_roti):\n",
    "    isRotiAvailable = True\n",
    "\n",
    "print(\"Nama produk 1:\",nama_kopi)\n",
    "print(\"Harga produk 1:\",harga_kopi)\n",
    "print(f\"Nama produk 2: {nama_roti}\")\n",
    "print(f\"Harga produk 2: {harga_roti}\")\n",
    "print(\"Status ketersediaan roti: \"+str(isRotiAvailable))"
   ]
  },
  {
   "cell_type": "markdown",
   "id": "20b61d99",
   "metadata": {},
   "source": [
    "## 2. Tugas 2: Konversi Tipe Data dan Input Pengguna\n",
    "\n",
    "Manajer ingin Anda membuat program yang meminta input dari pengguna.\n",
    "1. Minta pengguna untuk memasukkan jumlah pesanan kopi. Simpan input tersebut dalam variabel jumlah_kopi_str.\n",
    "2. Minta pengguna untuk memasukkan jumlah pesanan roti. Simpan input tersebut dalam variabel jumlah_roti_str.\n",
    "3. Periksa tipe data dari kedua variabel tersebut.\n",
    "4. Konversi kedua variabel string menjadi integer (int). Simpan hasilnya di variabel baru: jumlah_kopi_int dan jumlah_roti_int.\n",
    "5. Cetak kembali tipe data setelah konversi untuk memastikan berhasil.\n",
    "\n",
    "Contoh Output yang Diharapkan:\n",
    "\n",
    "    Masukkan jumlah pesanan kopi: 2\n",
    "    Masukkan jumlah pesanan roti: 3\n",
    "    Tipe data awal jumlah kopi: <class 'str'>\n",
    "    Tipe data awal jumlah roti: <class 'str'>\n",
    "    Tipe data setelah konversi: <class 'int'>"
   ]
  },
  {
   "cell_type": "code",
   "execution_count": 4,
   "id": "7b17155f",
   "metadata": {},
   "outputs": [
    {
     "name": "stdout",
     "output_type": "stream",
     "text": [
      "Tipe data awal jumlah kopi: <class 'str'>\n",
      "Tipe data awal jumlah roti: <class 'str'>\n",
      "Tipe data setelah konversi: <class 'int'>\n",
      "Tipe data setelah konversi: <class 'int'>\n"
     ]
    }
   ],
   "source": [
    "jumlah_kopi_str = input(\"Masukkan jumlah pesanan kopi: \")\n",
    "jumlah_roti_str = input(\"Masukkan jumlah pesanan roti: \")\n",
    "jumlah_kopi_int = int(jumlah_kopi_str)\n",
    "jumlah_roti_int = int(jumlah_roti_str)\n",
    "\n",
    "print(\"Tipe data awal jumlah kopi:\",type(jumlah_kopi_str)) #type() itu berjenis string kah??\n",
    "print(\"Tipe data awal jumlah roti:\",type(jumlah_roti_str))\n",
    "print(f\"Tipe data setelah konversi: {type(jumlah_kopi_int)}\")\n",
    "print(f\"Tipe data setelah konversi: {type(jumlah_roti_int)}\")\n",
    "\n"
   ]
  },
  {
   "cell_type": "markdown",
   "id": "9db4329b",
   "metadata": {},
   "source": [
    "## 3. Tugas 3: Operasi pada Angka\n",
    "Setelah mengonversi data, hitung total harga pesanan.\n",
    "1. Hitung total harga untuk kopi. Gunakan variabel harga_kopi dari Tugas 1 dan jumlah_kopi_int dari Tugas 2.\n",
    "2. Hitung total harga untuk roti. Gunakan variabel harga_roti dari Tugas 1 dan jumlah_roti_int dari Tugas 2.\n",
    "3. Hitung total harga keseluruhan pesanan. Simpan hasilnya di variabel total_belanja.\n",
    "4. Cetak total belanja tersebut.\n",
    "5. Tambahkan satu variabel lagi, uang_bayar = 50000. Hitung kembalian dengan menggunakan operator pengurangan.\n",
    "\n",
    "Contoh Output yang Diharapkan:\n",
    "\n",
    "    Total harga kopi: 36001.0\n",
    "    Total harga roti: 30000\n",
    "    Total belanja keseluruhan: 66001.0\n",
    "    Uang yang dibayarkan: 50000\n",
    "    Kembalian: -16001.0"
   ]
  },
  {
   "cell_type": "code",
   "execution_count": 5,
   "id": "b385e87b",
   "metadata": {},
   "outputs": [
    {
     "name": "stdout",
     "output_type": "stream",
     "text": [
      "Total harga kopi: 36001.0\n",
      "Total harga kopi: 30000\n",
      "Total belanja keseluruhan: 66001.0\n",
      "Uang yang dibayarkan: 50000\n",
      "Kembalian: -16001.0\n"
     ]
    }
   ],
   "source": [
    "total_belanja = None\n",
    "uang_bayar = 50_000\n",
    "print (\"Total harga kopi:\", harga_kopi * jumlah_kopi_int)\n",
    "print (\"Total harga kopi:\", harga_roti * jumlah_roti_int)\n",
    "\n",
    "total_belanja = (harga_kopi * jumlah_kopi_int)+(harga_roti * jumlah_roti_int)\n",
    "\n",
    "print (f\"Total belanja keseluruhan: {total_belanja}\")\n",
    "print (\"Uang yang dibayarkan:\", uang_bayar)\n",
    "print (\"Kembalian: \"+str(uang_bayar-total_belanja))"
   ]
  },
  {
   "cell_type": "markdown",
   "id": "42b0b2af",
   "metadata": {},
   "source": [
    "## Tugas 4: Operasi pada String\n",
    "Buatlah struk sederhana menggunakan operasi string.\n",
    "1. Buat variabel nama_pelanggan dan isi dengan input dari pengguna.\n",
    "2. Gabungkan teks \"Terima kasih, \" dengan nama_pelanggan dan teks \" sudah berbelanja di Coffee Shop Bahagia!\" menggunakan operator\n",
    "+. Simpan dalam variabel pesan_terima_kasih.\n",
    "3. Cetak pesan_terima_kasih.\n",
    "4. Buatlah garis pemisah dengan mengulang karakter * sebanyak 25 kali. Cetak garis tersebut di atas dan di bawah pesan.\n",
    "5. Cetak pesan menggunakan f-string yang berisi nama produk kopi dan total harganya. Contoh: \"Total harga Kopi Pagi adalah\n",
    "Rp36001.0\".\n",
    "\n",
    "Contoh Output yang Diharapkan:\n",
    "\n",
    "    *************************\n",
    "    Terima kasih, [Nama Pelanggan] sudah berbelanja di Coffee Shop Bahagia!\n",
    "    *************************\n",
    "    Total harga Kopi Pagi adalah Rp36001.0"
   ]
  },
  {
   "cell_type": "code",
   "execution_count": 7,
   "id": "01445880",
   "metadata": {},
   "outputs": [
    {
     "name": "stdout",
     "output_type": "stream",
     "text": [
      "*************************\n",
      "Terima kasih, Nashr Ardy Wahyono sudah berbelanja di Coffe Shop Bahagia!\n",
      "*************************\n",
      "Total harga Kopi Pagi adalah Rp36001.0\n"
     ]
    }
   ],
   "source": [
    "nama_pelanggan = input(\"Masukkan Nama: \")\n",
    "nama_toko = \"COFFE SHOP BAHAGIA\"\n",
    "print('*'*25)\n",
    "print(\"Terima kasih, \"+nama_pelanggan.title()+\" sudah berbelanja di \"+nama_toko.title()+\"!\")\n",
    "print('*'*25)\n",
    "print(f\"Total harga {nama_kopi.title()} adalah Rp{harga_kopi * jumlah_kopi_int}\")"
   ]
  }
 ],
 "metadata": {
  "kernelspec": {
   "display_name": "Python 3",
   "language": "python",
   "name": "python3"
  },
  "language_info": {
   "codemirror_mode": {
    "name": "ipython",
    "version": 3
   },
   "file_extension": ".py",
   "mimetype": "text/x-python",
   "name": "python",
   "nbconvert_exporter": "python",
   "pygments_lexer": "ipython3",
   "version": "3.13.2"
  }
 },
 "nbformat": 4,
 "nbformat_minor": 5
}
