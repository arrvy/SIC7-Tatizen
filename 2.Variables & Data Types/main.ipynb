{
  "cells": [
    {
      "cell_type": "markdown",
      "metadata": {
        "id": "view-in-github",
        "colab_type": "text"
      },
      "source": [
        "<a href=\"https://colab.research.google.com/github/arrvy/SIC7-Tatizen/blob/main/2.Variables%20%26%20Data%20Types/main.ipynb\" target=\"_parent\"><img src=\"https://colab.research.google.com/assets/colab-badge.svg\" alt=\"Open In Colab\"/></a>"
      ]
    },
    {
      "cell_type": "code",
      "execution_count": null,
      "id": "fe9cdf16",
      "metadata": {
        "vscode": {
          "languageId": "plaintext"
        },
        "id": "fe9cdf16"
      },
      "outputs": [],
      "source": [
        "print(\"Hello World\")"
      ]
    },
    {
      "cell_type": "markdown",
      "source": [
        "Assignment Operator\n"
      ],
      "metadata": {
        "id": "oLzWju3CrYF2"
      },
      "id": "oLzWju3CrYF2"
    },
    {
      "cell_type": "code",
      "source": [
        "nama_produk = \"Donat Pinkan Mambo\"\n",
        "harga = 25_000 # Tetap terbaca 25000, namun bisa mempermudah membaca value\n",
        "\n",
        "print(f\"Produk {nama_produk.upper()} berharga {harga}\")\n"
      ],
      "metadata": {
        "colab": {
          "base_uri": "https://localhost:8080/"
        },
        "id": "fS2lGKA4rZ4x",
        "outputId": "194f4bec-6b93-43d0-ef70-c6e140c3513c"
      },
      "id": "fS2lGKA4rZ4x",
      "execution_count": 1,
      "outputs": [
        {
          "output_type": "stream",
          "name": "stdout",
          "text": [
            "Produk DONAT PINKAN MAMBO berharga 25000\n"
          ]
        }
      ]
    },
    {
      "cell_type": "markdown",
      "source": [
        "##### Variabel di notebook itu tetap global, bisa \"dilihat block lain\" bisa mempermudah merorganisis variabel namum tetap hati-hati"
      ],
      "metadata": {
        "id": "lxf0ms00sehl"
      },
      "id": "lxf0ms00sehl"
    },
    {
      "cell_type": "code",
      "source": [
        "print (nama_produk)"
      ],
      "metadata": {
        "colab": {
          "base_uri": "https://localhost:8080/"
        },
        "id": "necEjCWcsa3n",
        "outputId": "58f66791-2fc3-4331-a993-d3606936abd3"
      },
      "id": "necEjCWcsa3n",
      "execution_count": 2,
      "outputs": [
        {
          "output_type": "stream",
          "name": "stdout",
          "text": [
            "Donat Pinkan Mambo\n"
          ]
        }
      ]
    }
  ],
  "metadata": {
    "language_info": {
      "name": "python"
    },
    "colab": {
      "provenance": [],
      "include_colab_link": true
    },
    "kernelspec": {
      "name": "python3",
      "display_name": "Python 3"
    }
  },
  "nbformat": 4,
  "nbformat_minor": 5
}