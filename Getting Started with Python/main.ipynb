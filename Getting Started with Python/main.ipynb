{
  "cells": [
    {
      "cell_type": "markdown",
      "id": "d6ecaa41",
      "metadata": {
        "colab_type": "text",
        "id": "view-in-github"
      },
      "source": [
        "<a href=\"https://colab.research.google.com/github/arrvy/SIC7-Tatizen/blob/main/Getting%20Started%20with%20Python/main.ipynb\" target=\"_parent\"><img src=\"https://colab.research.google.com/assets/colab-badge.svg\" alt=\"Open In Colab\"/></a>"
      ]
    },
    {
      "cell_type": "code",
      "execution_count": null,
      "id": "747cd634",
      "metadata": {
        "colab": {
          "base_uri": "https://localhost:8080/"
        },
        "id": "747cd634",
        "outputId": "64ab52c5-330f-481c-c37b-03e8575f963e"
      },
      "outputs": [
        {
          "name": "stdout",
          "output_type": "stream",
          "text": [
            "7\n",
            "Hello World\n",
            "10 - 10\n"
          ]
        }
      ],
      "source": [
        "print(5+2)\n",
        "print(\"Hello World\")\n",
        "\n",
        "a = 10\n",
        "b = 10\n",
        "print(a,b,sep=\" - \")\n",
        "\n"
      ]
    },
    {
      "cell_type": "markdown",
      "id": "t6KMHq39jhEI",
      "metadata": {
        "id": "t6KMHq39jhEI"
      },
      "source": []
    }
  ],
  "metadata": {
    "colab": {
      "include_colab_link": true,
      "provenance": []
    },
    "kernelspec": {
      "display_name": "Python 3",
      "language": "python",
      "name": "python3"
    },
    "language_info": {
      "name": "python",
      "version": "3.13.2"
    }
  },
  "nbformat": 4,
  "nbformat_minor": 5
}
