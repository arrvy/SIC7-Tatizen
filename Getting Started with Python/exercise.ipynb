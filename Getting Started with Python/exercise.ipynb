{
 "cells": [
  {
   "cell_type": "markdown",
   "id": "386fcd5e",
   "metadata": {},
   "source": [
    "##### 1. Mencetak Informasi Sederhana:\n",
    "- Gunakan perintah print() untuk mencetak pesan \"Selamat Datang di Analisis Data Coffee Shop!\".\n",
    "- Cetak nama produk favorit Anda dari coffee shop.\n",
    "- Cetak satu baris angka yang menunjukkan total penjualan harian (misal: 1500000)."
   ]
  },
  {
   "cell_type": "code",
   "execution_count": 1,
   "id": "c76caebe",
   "metadata": {},
   "outputs": [
    {
     "name": "stdout",
     "output_type": "stream",
     "text": [
      "Selamat Datang di Analisis Data Coffe Shop!\n",
      "Produk Favorit Saya : Donat Pinkan Mambo\n",
      "Harga : $120000\n"
     ]
    }
   ],
   "source": [
    "# Mendeklarasikan dan mendefiniskan variabel\n",
    "Favorit = \"Donat Pinkan Mambo\" \n",
    "Harga = 120000\n",
    "Currency = '$'\n",
    "print(\"Selamat Datang di Analisis Data Coffe Shop!\")\n",
    "print(\"Produk Favorit Saya :\",Favorit) # Print dengan beberapa argumen/isi\n",
    "print(f\"Harga : {Currency}{Harga}\") # Print dengan F strings (Format)\n"
   ]
  },
  {
   "cell_type": "markdown",
   "id": "dbc7cc19",
   "metadata": {},
   "source": [
    "##### 2. Mencetak dengan Gaya yang Berbeda:\n",
    "- Gunakan perintah print() untuk mencetak \"Kopi\", \"Donat\", dan \"Croissant\" dalam satu baris, dipisahkan oleh tanda\n",
    "koma. (Hint: Gunakan parameter sep).\n",
    "- Cetak \"Laporan penjualan\" dan \"sudah selesai\" di baris yang sama. (Hint: Gunakan parameter end)."
   ]
  },
  {
   "cell_type": "code",
   "execution_count": 2,
   "id": "1c8eaec6",
   "metadata": {},
   "outputs": [
    {
     "name": "stdout",
     "output_type": "stream",
     "text": [
      "Kopi,Donat,Croissant\n",
      "Laporan penjualan sudah selesai\n"
     ]
    }
   ],
   "source": [
    "print(\"Kopi\",\"Donat\",\"Croissant\",sep=\",\") #print dengan menggunakan seperate\n",
    "# melakukan perintah print 2 kali dengan output 1 baris\n",
    "print(\"Laporan penjualan\",end=\" \")\n",
    "print(\"sudah selesai\")"
   ]
  },
  {
   "cell_type": "markdown",
   "id": "5aa6c45b",
   "metadata": {},
   "source": [
    "##### 3. Membuat Struktur Kode dengan Indentasi:\n",
    "- Tulis sebuah if statement dengan kondisi 5000 > 1000.\n",
    "- Di dalamnya, gunakan indentasi yang benar (4 spasi) dan cetak dua pesan berbeda.\n",
    "- Tambahkan komentar di setiap baris print() untuk menjelaskan outputnya."
   ]
  },
  {
   "cell_type": "code",
   "execution_count": 3,
   "id": "0a217789",
   "metadata": {},
   "outputs": [
    {
     "name": "stdout",
     "output_type": "stream",
     "text": [
      "Nilai x lebih dari 1000\n",
      "Dan nilai 1000 kurang dari 5000\n"
     ]
    }
   ],
   "source": [
    "x = 5000\n",
    "\n",
    "if x > 1000:\n",
    "    print(\"Nilai x lebih dari 1000\") # print mengenai kondisi x lebih dari 1000\n",
    "    print(f\"Dan nilai 1000 kurang dari {x}\") # print mengenai nilai 1000 (treshold value) kurang dari nilai yang dibandingkan"
   ]
  },
  {
   "cell_type": "markdown",
   "id": "ccee7a64",
   "metadata": {},
   "source": [
    "##### 4. Membuat Kesalahan (Belajar dari Error):\n",
    "- Tulis sebuah print() statement yang sengaja Anda buat salah (misal: hilangkan tanda kutip atau kurung penutup).\n",
    "- Jalankan kode tersebut dan salin pesan error yang muncul.\n",
    "- Tambahkan komentar yang menjelaskan mengapa error tersebut terjadi."
   ]
  },
  {
   "cell_type": "code",
   "execution_count": 4,
   "id": "4308d57e",
   "metadata": {},
   "outputs": [
    {
     "name": "stdout",
     "output_type": "stream",
     "text": [
      "Ini adalah tahun 2025\n",
      "Ini adalah tahun2025\n",
      "Ini adalah tahun2025\n",
      "Ini adalah tahun2025\n"
     ]
    }
   ],
   "source": [
    "#print(\"Ini adalah tahun\"+2025) #! Error karena perintah concantenate (menambah string) hanya bisa dilakukan antar string\n",
    "\n",
    "print(\"Ini adalah tahun\",2025) # Bisa dengan begini, namun kalau ingin tanpa spasi\n",
    "\n",
    "print(\"Ini adalah tahun\"+str(2025)) # Mengubah int menjadi string dulu baru di #?concantenate\n",
    "print(f\"Ini adalah tahun{2025}\") # Menggunakan fstring untuk memasukan nilai integer langsung\n",
    "tahun = 2025\n",
    "print(f\"Ini adalah tahun{tahun}\") # Menggunakan fstring untuk memasukan nilai dari variabel"
   ]
  },
  {
   "cell_type": "markdown",
   "id": "31ae397a",
   "metadata": {},
   "source": [
    "##### 5. Menggunakan Komentar & Keterbacaan:\n",
    "- Tulis kode untuk mencetak laporan sederhana (misal: nama produk dan harganya).\n",
    "- Di atas kode tersebut, gunakan komentar blok (#) untuk memberikan judul laporan.\n",
    "- Tambahkan komentar sebaris di setiap baris cetakan untuk menjelaskan apa yang dicetak.\n",
    "- Pastikan kode Anda memiliki spasi yang rapi dan mudah dibaca."
   ]
  },
  {
   "cell_type": "code",
   "execution_count": 5,
   "id": "0c979ceb",
   "metadata": {},
   "outputs": [
    {
     "name": "stdout",
     "output_type": "stream",
     "text": [
      "Program laporan produk toko SUMBER MAKMUR\n",
      "Barang di toko SUMBER MAKMUR adalah :\n",
      "○ sate dengan harga 10000\n",
      "○ pepsoden dengan harga 20000\n",
      "○ indomie isi 2 dengan harga 4000\n"
     ]
    }
   ],
   "source": [
    "''' Kode untuk mencetak laporan produk di suatu toko \n",
    "    menggunakan while loop untuk mencetak laporan keseluruhan produk dan harga di toko\n",
    "'''\n",
    "\n",
    "toko = \"Sumber Makmur\" # variabel nama toko\n",
    "toko = toko.upper() # membuat string toko menjadi kapital\n",
    "barang = [\"sate\",\"pepsoden\",\"indomie isi 2\"] # list produk\n",
    "hargaBarang = [\"10000\",\"20000\",\"4000\"] # list harga produk\n",
    "i = 0 # variabel iterator\n",
    "\n",
    "# Block kode untuk mengeluarkan opening/tulisan awal\n",
    "print(f\"Program laporan produk toko {toko}\") \n",
    "print(\"Barang di toko\",toko,\"adalah :\")\n",
    "\n",
    "# Block kode untuk menampilkan list produk dan harga di toko tersebut dengan menggunakan while\n",
    "while i<3: # While dengan perulangan 3 kali\n",
    "    print(\"○\",end=\" \") # Agar membuat bulleted dot list\n",
    "    print(barang[i],end=\" \") # menampilkan produk\n",
    "    print(f\"dengan harga {hargaBarang[i]}\") # menampilkan harga\n",
    "    i+=1\n"
   ]
  }
 ],
 "metadata": {
  "kernelspec": {
   "display_name": "Python 3",
   "language": "python",
   "name": "python3"
  },
  "language_info": {
   "codemirror_mode": {
    "name": "ipython",
    "version": 3
   },
   "file_extension": ".py",
   "mimetype": "text/x-python",
   "name": "python",
   "nbconvert_exporter": "python",
   "pygments_lexer": "ipython3",
   "version": "3.13.2"
  }
 },
 "nbformat": 4,
 "nbformat_minor": 5
}
