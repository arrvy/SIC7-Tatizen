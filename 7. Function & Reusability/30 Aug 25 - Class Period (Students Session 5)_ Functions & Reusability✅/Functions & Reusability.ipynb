{
 "cells": [
  {
   "cell_type": "markdown",
   "id": "99a19b20",
   "metadata": {},
   "source": [
    "## Defining & Calling Functions"
   ]
  },
  {
   "cell_type": "code",
   "execution_count": 1,
   "id": "748823de",
   "metadata": {},
   "outputs": [
    {
     "name": "stdout",
     "output_type": "stream",
     "text": [
      "Halo, selamat datang di kelas Python!\n"
     ]
    }
   ],
   "source": [
    "# Definisi fungsi\n",
    "def greet():\n",
    "    print(\"Halo, selamat datang di kelas Python!\")\n",
    "\n",
    "# Pemanggilan fungsi\n",
    "greet()\n"
   ]
  },
  {
   "cell_type": "markdown",
   "id": "20a96bd1",
   "metadata": {},
   "source": [
    "## Parameters and Return"
   ]
  },
  {
   "cell_type": "code",
   "execution_count": 2,
   "id": "8c15107e",
   "metadata": {},
   "outputs": [
    {
     "name": "stdout",
     "output_type": "stream",
     "text": [
      "Halo Ra'if, selamat belajar!\n"
     ]
    }
   ],
   "source": [
    "# Fungsi dengan parameter\n",
    "def greet_user(name):\n",
    "    return f\"Halo {name}, selamat belajar!\"\n",
    "\n",
    "# Pemanggilan fungsi dengan argumen\n",
    "print(greet_user(\"Ra'if\"))"
   ]
  },
  {
   "cell_type": "markdown",
   "id": "5adf1d50",
   "metadata": {},
   "source": [
    "### Multiple parameters & return multiple values"
   ]
  },
  {
   "cell_type": "code",
   "execution_count": 3,
   "id": "d20af32e",
   "metadata": {},
   "outputs": [
    {
     "name": "stdout",
     "output_type": "stream",
     "text": [
      "Hasil tambah: 8\n",
      "Hasil kali: 15\n"
     ]
    }
   ],
   "source": [
    "def operasi_matematika(a, b):\n",
    "    tambah = a + b\n",
    "    kali = a * b\n",
    "    return tambah, kali\n",
    "\n",
    "hasil_tambah, hasil_kali = operasi_matematika(5, 3)\n",
    "print(\"Hasil tambah:\", hasil_tambah)\n",
    "print(\"Hasil kali:\", hasil_kali)"
   ]
  },
  {
   "cell_type": "markdown",
   "id": "67065734",
   "metadata": {},
   "source": [
    "## Global vs Local Scope"
   ]
  },
  {
   "cell_type": "code",
   "execution_count": 4,
   "id": "750f354a",
   "metadata": {},
   "outputs": [
    {
     "name": "stdout",
     "output_type": "stream",
     "text": [
      "Nilai di dalam fungsi: 5\n",
      "Nilai di luar fungsi: 10\n"
     ]
    }
   ],
   "source": [
    "x = 10  # global\n",
    "\n",
    "def contoh_scope():\n",
    "    x = 5  # local\n",
    "    print(\"Nilai di dalam fungsi:\", x)\n",
    "\n",
    "contoh_scope()\n",
    "print(\"Nilai di luar fungsi:\", x)"
   ]
  },
  {
   "cell_type": "markdown",
   "id": "9d31c4cc",
   "metadata": {},
   "source": [
    "### Mengubah variabel global di dalam fungsi"
   ]
  },
  {
   "cell_type": "code",
   "execution_count": 5,
   "id": "ce237a2c",
   "metadata": {},
   "outputs": [
    {
     "name": "stdout",
     "output_type": "stream",
     "text": [
      "Nilai y setelah diubah: 20\n"
     ]
    }
   ],
   "source": [
    "y = 10\n",
    "\n",
    "def ubah_global():\n",
    "    global y\n",
    "    y = 20\n",
    "\n",
    "ubah_global()\n",
    "print(\"Nilai y setelah diubah:\", y)"
   ]
  },
  {
   "cell_type": "markdown",
   "id": "ae874ee4",
   "metadata": {},
   "source": [
    "## Modular Code Principles"
   ]
  },
  {
   "cell_type": "code",
   "execution_count": 6,
   "id": "2a5024b9",
   "metadata": {},
   "outputs": [
    {
     "name": "stdout",
     "output_type": "stream",
     "text": [
      "=== PROGRAM KALKULATOR LENGKAP ===\n",
      "Masukkan angka pertama: 10\n",
      "Masukkan angka kedua: 20\n",
      "10.0 + 20.0 = 30.0\n",
      "10.0 - 20.0 = -10.0\n",
      "10.0 x 20.0 = 200.0\n",
      "10.0 ÷ 20.0 = 0.5\n",
      "10.0 % 20.0 = 10.0\n",
      "10.0 ^ 20.0 = 1e+20\n",
      "√10.0 = 3.1622776601683795\n",
      "√20.0 = 4.47213595499958\n",
      "|10.0| = 10.0\n",
      "|20.0| = 20.0\n",
      "Nilai maksimum = 20.0\n",
      "Nilai minimum = 10.0\n",
      "Rata-rata dari [10.0, 20.0] = 15.0\n",
      "Apakah ingin menghitung lagi? (ya/tidak): tidak\n",
      "Program selesai. Terima kasih!\n"
     ]
    }
   ],
   "source": [
    "from utils import (\n",
    "    validate_number,\n",
    "    tambah, kurang, kali, bagi, modulus, pangkat, rata_rata,\n",
    "    akar_kuadrat, nilai_mutlak,\n",
    "    nilai_maksimum, nilai_minimum\n",
    ")\n",
    "\n",
    "print(\"=== PROGRAM KALKULATOR LENGKAP ===\")\n",
    "\n",
    "while True:\n",
    "    # Input dua angka\n",
    "    num1 = validate_number(\"Masukkan angka pertama: \")\n",
    "    num2 = validate_number(\"Masukkan angka kedua: \")\n",
    "\n",
    "    # Operasi matematika dasar\n",
    "    print(f\"{num1} + {num2} = {tambah(num1, num2)}\")\n",
    "    print(f\"{num1} - {num2} = {kurang(num1, num2)}\")\n",
    "    print(f\"{num1} x {num2} = {kali(num1, num2)}\")\n",
    "    print(f\"{num1} ÷ {num2} = {bagi(num1, num2)}\")\n",
    "    print(f\"{num1} % {num2} = {modulus(num1, num2)}\")\n",
    "    print(f\"{num1} ^ {num2} = {pangkat(num1, num2)}\")\n",
    "\n",
    "    # Operasi matematika tambahan\n",
    "    print(f\"√{num1} = {akar_kuadrat(num1)}\")\n",
    "    print(f\"√{num2} = {akar_kuadrat(num2)}\")\n",
    "    print(f\"|{num1}| = {nilai_mutlak(num1)}\")\n",
    "    print(f\"|{num2}| = {nilai_mutlak(num2)}\"\n",
    "         )\n",
    "    print(f\"Nilai maksimum = {nilai_maksimum(num1, num2)}\")\n",
    "    print(f\"Nilai minimum = {nilai_minimum(num1, num2)}\")\n",
    "\n",
    "    # Rata-rata contoh\n",
    "    angka_list = [num1, num2]\n",
    "    print(f\"Rata-rata dari {angka_list} = {rata_rata(*angka_list)}\")\n",
    "\n",
    "    # Tanya apakah ingin mengulang\n",
    "    ulang = input(\"Apakah ingin menghitung lagi? (ya/tidak): \").lower().strip()\n",
    "    if ulang != \"ya\":\n",
    "        print(\"Program selesai. Terima kasih!\")\n",
    "        break\n"
   ]
  },
  {
   "cell_type": "code",
   "execution_count": null,
   "id": "f80cb1ba",
   "metadata": {},
   "outputs": [],
   "source": []
  },
  {
   "cell_type": "code",
   "execution_count": null,
   "id": "5d4ef278",
   "metadata": {},
   "outputs": [],
   "source": []
  },
  {
   "cell_type": "code",
   "execution_count": null,
   "id": "bbf6bdaa",
   "metadata": {},
   "outputs": [],
   "source": []
  }
 ],
 "metadata": {
  "kernelspec": {
   "display_name": "Python 3 (ipykernel)",
   "language": "python",
   "name": "python3"
  },
  "language_info": {
   "codemirror_mode": {
    "name": "ipython",
    "version": 3
   },
   "file_extension": ".py",
   "mimetype": "text/x-python",
   "name": "python",
   "nbconvert_exporter": "python",
   "pygments_lexer": "ipython3",
   "version": "3.11.4"
  }
 },
 "nbformat": 4,
 "nbformat_minor": 5
}
