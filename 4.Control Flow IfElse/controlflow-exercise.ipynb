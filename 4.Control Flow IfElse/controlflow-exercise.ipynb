{
 "cells": [
  {
   "cell_type": "markdown",
   "id": "693d0174",
   "metadata": {},
   "source": []
  },
  {
   "cell_type": "markdown",
   "id": "4021b928",
   "metadata": {},
   "source": [
    "Nama : Nashr Ardy Wahyono\n",
    "\n",
    "Tim : Tatizen\n",
    "\n",
    "Asal : Universitas Jenderal Soedirman\n",
    "\n",
    "Email : nashrardy@gmail.com"
   ]
  },
  {
   "cell_type": "markdown",
   "id": "eb0b24c3",
   "metadata": {},
   "source": [
    "## Brief Assignment :\n",
    "\n",
    "Buat program untuk menentukan kategori BMI berdasarkan input berat (kg) dan tinggi (m), carilah referensi rentang nilai kategori BMI yang valid. Jawaban Harus memenuhi :\n",
    "\n",
    "- [x] if,elif,else\n",
    "- [x] Nested condition, logical operator & comparison\n"
   ]
  },
  {
   "cell_type": "code",
   "execution_count": 22,
   "id": "a2b7cbd4",
   "metadata": {},
   "outputs": [
    {
     "name": "stdout",
     "output_type": "stream",
     "text": [
      "====================================================================================================\n",
      "                                      Welcome to BMI Calculator\n",
      "====================================================================================================\n",
      "BMI Value:  34.60 \n",
      "Kategori: Obesitas\n",
      " -> Obesitas Kelas I\n"
     ]
    }
   ],
   "source": [
    "def main():\n",
    "    a = 10\n",
    "    openingCLI()\n",
    "    systemMain()\n",
    "    \n",
    "    \n",
    "\n",
    "if __name__ == \"__main__\":\n",
    "    main()"
   ]
  },
  {
   "cell_type": "code",
   "execution_count": 10,
   "id": "b9a1bf20",
   "metadata": {},
   "outputs": [],
   "source": [
    "def openingCLI():\n",
    "    openingText = \"Welcome to BMI Calculator\"\n",
    "\n",
    "    print(100*\"=\")\n",
    "    print(\" \"*((100-len(openingText))//2),openingText)\n",
    "    print(100*\"=\")"
   ]
  },
  {
   "cell_type": "code",
   "execution_count": 21,
   "id": "d51d4cc1",
   "metadata": {},
   "outputs": [],
   "source": [
    "def systemMain():\n",
    "    weight,height = 0.0,0.0\n",
    "    BMIValue = 0.0\n",
    "    while True:\n",
    "        weight = float(input(\"Masukan berat badan anda (kg): \"))\n",
    "        if(weight<0):\n",
    "            print(\"Masukan yang bener\")\n",
    "            continue\n",
    "        else:\n",
    "            break\n",
    "    while True:\n",
    "        height = float(input(\"Masukan tinggi badan anda (cm): \"))\n",
    "        if(height<0):\n",
    "            print(\"Masukan yang bener\")\n",
    "            continue\n",
    "        else:\n",
    "            break\n",
    "    \n",
    "    BMIValue = calculateBMI(weight,height)        \n",
    "    print(F\"BMI Value: {BMIValue : .2f} \")\n",
    "\n",
    "    decideBMI(BMIValue)\n",
    "    \n",
    "\n"
   ]
  },
  {
   "cell_type": "code",
   "execution_count": 12,
   "id": "b7279742",
   "metadata": {},
   "outputs": [],
   "source": [
    "def calculateBMI(weight,height):\n",
    "    return weight/(pow(height/100,2))"
   ]
  },
  {
   "cell_type": "code",
   "execution_count": 17,
   "id": "b07fe730",
   "metadata": {},
   "outputs": [],
   "source": [
    "def decideBMI(BMIValue):\n",
    "    print(\"Kategori:\", end=\" \")\n",
    "    if BMIValue < 18.5:\n",
    "        print(\"Kurus\")\n",
    "        if BMIValue < 16:\n",
    "            print(\" -> Sangat Kurus (Severe Thinnes)\")\n",
    "        elif BMIValue < 17:\n",
    "            print(\" -> Sedang Kurus (Moderate Thinnes)\")\n",
    "        else:\n",
    "            print(\" -> Ringan Kurus (Mild Thinnes)\")\n",
    "    elif BMIValue >= 18.5  and BMIValue < 25:\n",
    "        print(\"Normal\")\n",
    "    elif BMIValue >= 25  and BMIValue < 30:\n",
    "        print(\"Overweight\")\n",
    "        if BMIValue >= 27 and BMIValue < 30:\n",
    "            print(\" -> Mendekati Obesitas\")\n",
    "    else:\n",
    "        print(\"Obesitas\")\n",
    "        if BMIValue < 35:\n",
    "            print(\" -> Obesitas Kelas I\")\n",
    "        elif BMIValue < 40:\n",
    "            print(\" -> Obesitas Kelas II\")\n",
    "        else:\n",
    "            print(\" -> Obesitas Kelas III\")\n",
    "        "
   ]
  }
 ],
 "metadata": {
  "kernelspec": {
   "display_name": "Python 3",
   "language": "python",
   "name": "python3"
  },
  "language_info": {
   "codemirror_mode": {
    "name": "ipython",
    "version": 3
   },
   "file_extension": ".py",
   "mimetype": "text/x-python",
   "name": "python",
   "nbconvert_exporter": "python",
   "pygments_lexer": "ipython3",
   "version": "3.13.2"
  }
 },
 "nbformat": 4,
 "nbformat_minor": 5
}
